{
 "cells": [
  {
   "cell_type": "code",
   "execution_count": 1,
   "id": "surprising-record",
   "metadata": {},
   "outputs": [],
   "source": [
    "%config Completer.use_jedi = False\n",
    "\n",
    "import os\n",
    "\n",
    "os.environ[\"CUDA_DEVICE_ORDER\"] = \"PCI_BUS_ID\"   # see issue #152\n",
    "os.environ[\"CUDA_VISIBLE_DEVICES\"] = \"\"\n",
    "\n",
    "# example of training an conditional gan on the fashion mnist dataset\n",
    "from numpy import expand_dims\n",
    "from numpy import zeros\n",
    "from numpy import ones\n",
    "import keras\n",
    "from numpy.random import randn\n",
    "from numpy.random import randint\n",
    "from keras.optimizers import Adam\n",
    "from keras.callbacks import EarlyStopping, ModelCheckpoint, ReduceLROnPlateau, LearningRateScheduler\n",
    "from keras.utils import plot_model\n",
    "from keras.models import Model\n",
    "from keras.layers import Input, Reshape, multiply, Embedding, merge, Concatenate, Conv1D, BatchNormalization\n",
    "from keras.layers import Dense, Flatten, Multiply, LSTM\n",
    "from keras.layers.advanced_activations import LeakyReLU\n",
    "import numpy as np\n",
    "from numpy import asarray\n",
    "import matplotlib.pyplot as plt\n",
    "from keras.layers import UpSampling1D\n",
    "from keras.layers.core import Activation\n",
    "from keras.layers import Add\n",
    "import tensorflow as tf\n",
    "from evaluation_metrics import *\n",
    "metric_to_calculate = ['FID', 'MMD', 'DTW', 'PC', 'RMSE', 'TWED']\n",
    "from imblearn.over_sampling import SMOTE, ADASYN, SVMSMOTE\n",
    "from sklearn.model_selection import train_test_split\n",
    "from imblearn.combine import SMOTETomek, SMOTEENN"
   ]
  },
  {
   "cell_type": "code",
   "execution_count": 2,
   "id": "important-brake",
   "metadata": {},
   "outputs": [],
   "source": [
    "def reshape(X):\n",
    "    if len(X.shape) == 1:\n",
    "        X = X.reshape(X.shape[0], 1)\n",
    "        return X\n",
    "    else:\n",
    "        if X.shape[-1] == 1:\n",
    "            return X\n",
    "        else:\n",
    "            X = X.reshape(X.shape[0], X.shape[1], 1)\n",
    "            return X"
   ]
  },
  {
   "cell_type": "code",
   "execution_count": 3,
   "id": "interesting-lambda",
   "metadata": {},
   "outputs": [
    {
     "name": "stdout",
     "output_type": "stream",
     "text": [
      "(204775, 187)\n",
      "(204775,)\n",
      "(204775, 186)\n"
     ]
    }
   ],
   "source": [
    "X = np.load('Data/Original/train_data.npy')\n",
    "print (X.shape)\n",
    "y = X[:,-1]\n",
    "print (y.shape)\n",
    "X = X[:,:-1]\n",
    "print (X.shape)\n",
    "# print (np.unique(y, return_counts=True))\n",
    "# y[y==0].shape\n",
    "# y==0"
   ]
  },
  {
   "cell_type": "code",
   "execution_count": 4,
   "id": "stunning-secretary",
   "metadata": {
    "scrolled": true
   },
   "outputs": [
    {
     "name": "stdout",
     "output_type": "stream",
     "text": [
      "(163820, 186) (40955, 186) (163820,) (40955,)\n",
      "(array([0., 1., 2.]), array([125561,   9305,  28954]))\n",
      "(array([0., 1., 2.]), array([31181,  2358,  7416]))\n"
     ]
    }
   ],
   "source": [
    "X, X_val, y, y_val = train_test_split(X, y, test_size=0.2)\n",
    "print (X.shape, X_val.shape, y.shape, y_val.shape)\n",
    "print (np.unique(y, return_counts=True))\n",
    "print (np.unique(y_val, return_counts=True))"
   ]
  },
  {
   "cell_type": "code",
   "execution_count": 5,
   "id": "commercial-empire",
   "metadata": {},
   "outputs": [],
   "source": [
    "np.save('Data/TrainVal/X', X)\n",
    "np.save('Data/TrainVal/y', y)\n",
    "np.save('Data/TrainVal/X_val', X_val)\n",
    "np.save('Data/TrainVal/y_val', y_val)"
   ]
  },
  {
   "cell_type": "code",
   "execution_count": 6,
   "id": "younger-remark",
   "metadata": {},
   "outputs": [
    {
     "name": "stdout",
     "output_type": "stream",
     "text": [
      "(376663, 186) (376663,)\n",
      "(array([0., 1., 2.]), array([125561,   9305,  28954]))\n",
      "(array([0., 1., 2.]), array([125551, 125559, 125553]))\n"
     ]
    }
   ],
   "source": [
    "oversample = SMOTETomek(n_jobs=-1)\n",
    "X_Aug, y_Aug = oversample.fit_resample(X, y)\n",
    "\n",
    "np.save('Data/SMOTETOMEK/X', X_Aug)\n",
    "np.save('Data/SMOTETOMEK/y', y_Aug)\n",
    "\n",
    "print (X_Aug.shape, y_Aug.shape)\n",
    "print (np.unique(y, return_counts=True))\n",
    "print (np.unique(y_Aug, return_counts=True))"
   ]
  },
  {
   "cell_type": "code",
   "execution_count": 7,
   "id": "forward-slope",
   "metadata": {},
   "outputs": [
    {
     "name": "stdout",
     "output_type": "stream",
     "text": [
      "(373544, 186) (373544,)\n",
      "(array([0., 1., 2.]), array([125561,   9305,  28954]))\n",
      "(array([0., 1., 2.]), array([122941, 125410, 125193]))\n"
     ]
    }
   ],
   "source": [
    "oversample = SMOTEENN(n_jobs=-1)\n",
    "X_Aug, y_Aug = oversample.fit_resample(X, y)\n",
    "\n",
    "np.save('Data/SMOTEENN/X', X_Aug)\n",
    "np.save('Data/SMOTEENN/y', y_Aug)\n",
    "\n",
    "print (X_Aug.shape, y_Aug.shape)\n",
    "print (np.unique(y, return_counts=True))\n",
    "print (np.unique(y_Aug, return_counts=True))"
   ]
  },
  {
   "cell_type": "code",
   "execution_count": 8,
   "id": "instrumental-extraction",
   "metadata": {},
   "outputs": [
    {
     "name": "stdout",
     "output_type": "stream",
     "text": [
      "(376683, 186) (376683,)\n",
      "(array([0., 1., 2.]), array([125561,   9305,  28954]))\n",
      "(array([0., 1., 2.]), array([125561, 125561, 125561]))\n"
     ]
    }
   ],
   "source": [
    "oversample = SMOTE(n_jobs=-1)\n",
    "X_Aug, y_Aug = oversample.fit_resample(X, y)\n",
    "\n",
    "np.save('Data/SMOTE/X', X_Aug)\n",
    "np.save('Data/SMOTE/y', y_Aug)\n",
    "\n",
    "print (X_Aug.shape, y_Aug.shape)\n",
    "print (np.unique(y, return_counts=True))\n",
    "print (np.unique(y_Aug, return_counts=True))"
   ]
  },
  {
   "cell_type": "code",
   "execution_count": 9,
   "id": "aquatic-sector",
   "metadata": {},
   "outputs": [
    {
     "name": "stdout",
     "output_type": "stream",
     "text": [
      "(377133, 186) (377133,)\n",
      "(array([0., 1., 2.]), array([125561,   9305,  28954]))\n",
      "(array([0., 1., 2.]), array([125561, 125895, 125677]))\n"
     ]
    }
   ],
   "source": [
    "oversample = ADASYN(n_jobs=-1)\n",
    "X_Aug, y_Aug = oversample.fit_resample(X, y)\n",
    "\n",
    "np.save('Data/ADASYN/X', X_Aug)\n",
    "np.save('Data/ADASYN/y', y_Aug)\n",
    "\n",
    "print (X_Aug.shape, y_Aug.shape)\n",
    "print (np.unique(y, return_counts=True))\n",
    "print (np.unique(y_Aug, return_counts=True))"
   ]
  },
  {
   "cell_type": "code",
   "execution_count": 10,
   "id": "internal-strain",
   "metadata": {},
   "outputs": [
    {
     "name": "stdout",
     "output_type": "stream",
     "text": [
      "(376683, 186) (376683,)\n",
      "(array([0., 1., 2.]), array([125561,   9305,  28954]))\n",
      "(array([0., 1., 2.]), array([125561, 125561, 125561]))\n"
     ]
    }
   ],
   "source": [
    "oversample = SVMSMOTE(n_jobs=-1)\n",
    "X_Aug, y_Aug = oversample.fit_resample(X, y)\n",
    "\n",
    "np.save('Data/SVMSMOTE/X', X_Aug)\n",
    "np.save('Data/SVMSMOTE/y', y_Aug)\n",
    "\n",
    "print (X_Aug.shape, y_Aug.shape)\n",
    "print (np.unique(y, return_counts=True))\n",
    "print (np.unique(y_Aug, return_counts=True))"
   ]
  },
  {
   "cell_type": "code",
   "execution_count": null,
   "id": "square-syndicate",
   "metadata": {},
   "outputs": [],
   "source": []
  },
  {
   "cell_type": "code",
   "execution_count": null,
   "id": "native-brook",
   "metadata": {},
   "outputs": [],
   "source": []
  },
  {
   "cell_type": "code",
   "execution_count": 18,
   "id": "intimate-resident",
   "metadata": {},
   "outputs": [],
   "source": [
    "from helper import *\n",
    "from keras.utils import to_categorical\n",
    "from keras.callbacks import EarlyStopping, ModelCheckpoint"
   ]
  },
  {
   "cell_type": "code",
   "execution_count": 11,
   "id": "above-symbol",
   "metadata": {},
   "outputs": [],
   "source": [
    "WINDOW_SIZE = 186\n",
    "INPUT_FEAT = 1\n",
    "OUTPUT_CLASS = 3"
   ]
  },
  {
   "cell_type": "code",
   "execution_count": 12,
   "id": "healthy-lebanon",
   "metadata": {},
   "outputs": [],
   "source": [
    "model = parallel_NN_LSTM(WINDOW_SIZE,INPUT_FEAT,OUTPUT_CLASS)\n",
    "# model.summary()"
   ]
  },
  {
   "cell_type": "code",
   "execution_count": 18,
   "id": "scientific-crystal",
   "metadata": {},
   "outputs": [
    {
     "name": "stdout",
     "output_type": "stream",
     "text": [
      "(40955,) (40955, 186) (163820,) (163820, 186)\n"
     ]
    }
   ],
   "source": [
    "print (y_test.shape, X_test.shape, y.shape, X.shape)"
   ]
  },
  {
   "cell_type": "code",
   "execution_count": 14,
   "id": "residential-frequency",
   "metadata": {},
   "outputs": [
    {
     "name": "stdout",
     "output_type": "stream",
     "text": [
      "5120/5120 [==============================] - 90s 17ms/step - loss: 0.1439 - accuracy: 0.9579 - val_loss: 0.0757 - val_accuracy: 0.9791\n",
      "WARNING:tensorflow:Early stopping conditioned on metric `val_acc` which is not available. Available metrics are: loss,accuracy,val_loss,val_accuracy\n"
     ]
    }
   ],
   "source": [
    "cb = [keras.callbacks.EarlyStopping(monitor='val_loss', patience=5), \n",
    "      ModelCheckpoint('parallel_NN_LSTM.h5', save_best_only=True, monitor='val_loss', mode='min')]\n",
    "history = model.fit(reshape(X), to_categorical(y), validation_data=(reshape(X_val), to_categorical(y_val)), \n",
    "                    batch_size=32, epochs=1, callbacks=cb, verbose=1)"
   ]
  },
  {
   "cell_type": "code",
   "execution_count": 16,
   "id": "norwegian-registration",
   "metadata": {},
   "outputs": [
    {
     "name": "stdout",
     "output_type": "stream",
     "text": [
      "(203187, 187)\n",
      "(131056,)\n",
      "(203187, 186)\n"
     ]
    }
   ],
   "source": [
    "X_test = np.load('Data/test_data.npy')\n",
    "print (X_test.shape)\n",
    "y_test = X_test[:,-1]\n",
    "print (y.shape)\n",
    "X_test = X_test[:,:-1]\n",
    "print (X_test.shape)"
   ]
  },
  {
   "cell_type": "code",
   "execution_count": 20,
   "id": "meaningful-copyright",
   "metadata": {},
   "outputs": [
    {
     "name": "stdout",
     "output_type": "stream",
     "text": [
      "6350/6350 [==============================] - 17s 3ms/step\n"
     ]
    }
   ],
   "source": [
    "filename = 'parallel_NN_LSTM'\n",
    "if not os.path.exists(str(filename)):\n",
    "    os.makedirs(str(filename))\n",
    "prediction(model, reshape(X_test), to_categorical(y_test), filename)\n",
    "save_the_model(filename, model)\n",
    "write_history(filename, history.history)"
   ]
  },
  {
   "cell_type": "code",
   "execution_count": 21,
   "id": "naked-difficulty",
   "metadata": {},
   "outputs": [
    {
     "name": "stdout",
     "output_type": "stream",
     "text": [
      "Saved model to disk\n"
     ]
    }
   ],
   "source": [
    "save_the_model(filename, model)\n",
    "write_history(filename, history.history)"
   ]
  },
  {
   "cell_type": "code",
   "execution_count": null,
   "id": "convertible-iraqi",
   "metadata": {},
   "outputs": [],
   "source": []
  },
  {
   "cell_type": "code",
   "execution_count": 17,
   "id": "innocent-preservation",
   "metadata": {},
   "outputs": [
    {
     "data": {
      "text/plain": [
       "(163820, 186, 1)"
      ]
     },
     "execution_count": 17,
     "metadata": {},
     "output_type": "execute_result"
    }
   ],
   "source": [
    "Parallel_GAP(WINDOW_SIZE, INPUT_FEAT, OUTPUT_CLASS)"
   ]
  },
  {
   "cell_type": "code",
   "execution_count": null,
   "id": "dressed-library",
   "metadata": {},
   "outputs": [],
   "source": [
    "X_Aug = np.load('Data/X_smote.npy')\n",
    "y_Aug = np.load('Data/y_smote.npy')\n",
    "X_Aug = np.load('Data/X_adasyn.npy')\n",
    "y_Aug = np.load('Data/y_adasyn.npy')\n",
    "X_Aug = np.load('Data/X_svmsmote.npy')\n",
    "y_Aug = np.load('Data/y_svmsmote.npy')"
   ]
  },
  {
   "cell_type": "code",
   "execution_count": null,
   "id": "shared-welsh",
   "metadata": {},
   "outputs": [],
   "source": [
    "# temp_i = 0\n",
    "# prev = 100\n",
    "# for i, label in enumerate(y_smote):\n",
    "#     if label != prev:\n",
    "#         # print (i, label, prev)\n",
    "#         print (i-temp_i, int(prev), int(label))\n",
    "#         temp_i = i\n",
    "#     prev = label"
   ]
  }
 ],
 "metadata": {
  "kernelspec": {
   "display_name": "Python 3",
   "language": "python",
   "name": "python3"
  },
  "language_info": {
   "codemirror_mode": {
    "name": "ipython",
    "version": 3
   },
   "file_extension": ".py",
   "mimetype": "text/x-python",
   "name": "python",
   "nbconvert_exporter": "python",
   "pygments_lexer": "ipython3",
   "version": "3.6.9"
  }
 },
 "nbformat": 4,
 "nbformat_minor": 5
}
