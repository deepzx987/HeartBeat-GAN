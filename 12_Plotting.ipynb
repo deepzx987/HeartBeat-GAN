{
 "cells": [
  {
   "cell_type": "code",
   "execution_count": 4,
   "id": "surprising-record",
   "metadata": {},
   "outputs": [],
   "source": [
    "%config Completer.use_jedi = False\n",
    "\n",
    "import os\n",
    "import numpy as np\n",
    "import matplotlib.pyplot as plt"
   ]
  },
  {
   "cell_type": "code",
   "execution_count": 5,
   "id": "visible-young",
   "metadata": {},
   "outputs": [
    {
     "name": "stdout",
     "output_type": "stream",
     "text": [
      "(3, 100)\n"
     ]
    }
   ],
   "source": [
    "X_fake = np.random.normal(0,1.0,(3,100))\n",
    "print (X_fake.shape)"
   ]
  },
  {
   "cell_type": "code",
   "execution_count": 7,
   "id": "grand-toddler",
   "metadata": {},
   "outputs": [],
   "source": [
    "plt.plot(X_fake[0], 'k')\n",
    "plt.axis('off')\n",
    "plt.savefig('Paper/Plots/GaussianNoise.png', dpi=200)\n",
    "plt.close()\n",
    "plt.plot(X_fake[1], 'k')\n",
    "plt.axis('off')\n",
    "plt.savefig('Paper/Plots/GaussianNoise1.png', dpi=200)\n",
    "plt.close()\n",
    "plt.plot(X_fake[2], 'k')\n",
    "plt.axis('off')\n",
    "plt.savefig('Paper/Plots/GaussianNoise2.png', dpi=200)\n",
    "plt.close()"
   ]
  },
  {
   "cell_type": "code",
   "execution_count": null,
   "id": "widespread-staff",
   "metadata": {},
   "outputs": [],
   "source": []
  },
  {
   "cell_type": "code",
   "execution_count": 6,
   "id": "neutral-nightlife",
   "metadata": {},
   "outputs": [],
   "source": [
    "X_6049 = np.load('Data/GAN_GEN/'+ '6049'+'_X.npy')\n",
    "y_6049 = np.load('Data/GAN_GEN/'+ '6049'+'_y.npy')\n",
    "\n",
    "X = np.load('Data/ForGAN/X.npy')\n",
    "y = np.load('Data/ForGAN/y.npy')\n",
    "\n",
    "print (X.shape, y.shape, X_6049.shape, y_6049.shape)\n",
    "\n",
    "N = X[y==0]\n",
    "S = X[y==1]\n",
    "V = X[y==2]\n",
    "\n",
    "print (N.shape, S.shape, V.shape)\n",
    "\n",
    "N_6049 = np.squeeze(X_6049[y_6049==0])\n",
    "S_6049 = np.squeeze(X_6049[y_6049==1])\n",
    "V_6049 = np.squeeze(X_6049[y_6049==2])\n",
    "\n",
    "print (N_6049.shape, S_6049.shape, V_6049.shape)"
   ]
  },
  {
   "cell_type": "code",
   "execution_count": 29,
   "id": "known-fifth",
   "metadata": {},
   "outputs": [],
   "source": [
    "plt.plot(N[0], 'k')\n",
    "plt.axis('off')\n",
    "plt.savefig('Paper/Plots/N.png', dpi=200)\n",
    "plt.close()\n",
    "\n",
    "for i in range(0,10000,100):\n",
    "    plt.axis('off')\n",
    "    plt.plot(N_6049[-i], 'k')\n",
    "    name = 'Paper/Plots/N_6049_' + str(i) + '.png'\n",
    "    plt.savefig(name, dpi=200)\n",
    "    plt.close()"
   ]
  },
  {
   "cell_type": "code",
   "execution_count": 32,
   "id": "sorted-brighton",
   "metadata": {},
   "outputs": [],
   "source": [
    "plt.plot(S[1], 'k')\n",
    "plt.axis('off')\n",
    "plt.savefig('Paper/Plots/S.png', dpi=200)\n",
    "plt.close()\n",
    "\n",
    "for i in range(0,2500,100):\n",
    "    plt.axis('off')\n",
    "    plt.plot(S_6049[-i], 'k')\n",
    "    name = 'Paper/Plots/S_6049_' + str(i) + '.png'\n",
    "    plt.savefig(name, dpi=200)\n",
    "    plt.close()"
   ]
  },
  {
   "cell_type": "code",
   "execution_count": 34,
   "id": "fifteen-eugene",
   "metadata": {},
   "outputs": [],
   "source": [
    "plt.plot(V[2], 'k')\n",
    "plt.axis('off')\n",
    "plt.savefig('Paper/Plots/V.png', dpi=200)\n",
    "plt.close()\n",
    "\n",
    "for i in range(0,2500,100):\n",
    "    plt.axis('off')\n",
    "    plt.plot(V_6049[-i], 'k')\n",
    "    name = 'Paper/Plots/V_6049_' + str(i) + '.png'\n",
    "    plt.savefig(name, dpi=200)\n",
    "    plt.close()"
   ]
  },
  {
   "cell_type": "code",
   "execution_count": null,
   "id": "amended-charles",
   "metadata": {},
   "outputs": [],
   "source": []
  }
 ],
 "metadata": {
  "kernelspec": {
   "display_name": "Python 3",
   "language": "python",
   "name": "python3"
  },
  "language_info": {
   "codemirror_mode": {
    "name": "ipython",
    "version": 3
   },
   "file_extension": ".py",
   "mimetype": "text/x-python",
   "name": "python",
   "nbconvert_exporter": "python",
   "pygments_lexer": "ipython3",
   "version": "3.6.9"
  }
 },
 "nbformat": 4,
 "nbformat_minor": 5
}
