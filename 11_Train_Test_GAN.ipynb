{
 "cells": [
  {
   "cell_type": "code",
   "execution_count": 1,
   "id": "surprising-record",
   "metadata": {},
   "outputs": [],
   "source": [
    "%config Completer.use_jedi = False\n",
    "\n",
    "import os\n",
    "\n",
    "# os.environ[\"CUDA_DEVICE_ORDER\"] = \"PCI_BUS_ID\"   # see issue #152\n",
    "# os.environ[\"CUDA_VISIBLE_DEVICES\"] = \"\"\n",
    "\n",
    "# example of training an conditional gan on the fashion mnist dataset\n",
    "from numpy import expand_dims\n",
    "from numpy import zeros\n",
    "from numpy import ones\n",
    "import keras\n",
    "from numpy.random import randn\n",
    "from numpy.random import randint\n",
    "from keras.optimizers import Adam\n",
    "from keras.callbacks import EarlyStopping, ModelCheckpoint, ReduceLROnPlateau, LearningRateScheduler\n",
    "from keras.utils import plot_model\n",
    "from keras.models import Model\n",
    "from keras.layers import Input, Reshape, multiply, Embedding, merge, Concatenate, Conv1D, BatchNormalization\n",
    "from keras.layers import Dense, Flatten, Multiply, LSTM\n",
    "from keras.layers.advanced_activations import LeakyReLU\n",
    "import numpy as np\n",
    "from numpy import asarray\n",
    "import matplotlib.pyplot as plt\n",
    "from keras.layers import UpSampling1D\n",
    "from keras.layers.core import Activation\n",
    "from keras.layers import Add\n",
    "import tensorflow as tf\n",
    "from evaluation_metrics import *\n",
    "metric_to_calculate = ['FID', 'MMD', 'DTW', 'PC', 'RMSE', 'TWED']\n",
    "from helper import *\n",
    "from keras.utils import to_categorical\n",
    "from keras.callbacks import EarlyStopping, ModelCheckpoint"
   ]
  },
  {
   "cell_type": "code",
   "execution_count": 2,
   "id": "important-brake",
   "metadata": {},
   "outputs": [],
   "source": [
    "def reshape(X):\n",
    "    if len(X.shape) == 1:\n",
    "        X = X.reshape(X.shape[0], 1)\n",
    "        return X\n",
    "    else:\n",
    "        if X.shape[-1] == 1:\n",
    "            return X\n",
    "        else:\n",
    "            X = X.reshape(X.shape[0], X.shape[1], 1)\n",
    "            return X"
   ]
  },
  {
   "cell_type": "code",
   "execution_count": 3,
   "id": "impossible-bleeding",
   "metadata": {},
   "outputs": [],
   "source": [
    "def load_data():\n",
    "    X_val = reshape(np.load('Data/TrainVal/X_val.npy'))\n",
    "    y_val = np.load('Data/TrainVal/y_val.npy')\n",
    "\n",
    "    print (X_val.shape, y_val.shape)\n",
    "    print (np.unique(y_val, return_counts=True))\n",
    "\n",
    "    y_val = to_categorical(y_val)\n",
    "    print (y_val.shape)\n",
    "\n",
    "    X_test = np.load('Data/Original/test_data.npy')\n",
    "    y_test = X_test[:,-1]\n",
    "    X_test = reshape(X_test[:,:-1])\n",
    "\n",
    "    print (X_test.shape, y_test.shape)\n",
    "    print (np.unique(y_test, return_counts=True))\n",
    "\n",
    "    y_test = to_categorical(y_test)\n",
    "    print (y_test.shape)\n",
    "    \n",
    "    return X_val, y_val, X_test, y_test"
   ]
  },
  {
   "cell_type": "code",
   "execution_count": 4,
   "id": "coastal-anime",
   "metadata": {},
   "outputs": [],
   "source": [
    "def load_and_run_model(title, results, BS, EP, Pat, Mon_Term, Mode, X_val, y_val, X_test, y_test):\n",
    "#     WINDOW_SIZE = 186\n",
    "#     INPUT_FEAT = 1\n",
    "#     OUTPUT_CLASS = 3\n",
    "    \n",
    "    X = reshape(np.load('Data/GAN_GEN/'+ title+'_X.npy'))\n",
    "    y = np.load('Data/GAN_GEN/'+ title+'_y.npy')\n",
    "    print (np.unique(y, return_counts=True))\n",
    "    y = to_categorical(y)\n",
    "    print (X.shape, y.shape)\n",
    "\n",
    "#     filename = os.path.join(results,title)\n",
    "#     if not os.path.exists(str(filename)):\n",
    "#         os.makedirs(str(filename))\n",
    "\n",
    "#     model = load_model_train(WINDOW_SIZE,INPUT_FEAT,OUTPUT_CLASS)\n",
    "#     cb = [keras.callbacks.EarlyStopping(monitor=Mon_Term, patience=Pat, verbose=1, mode=Mode), \n",
    "#           ModelCheckpoint(filename+'/check.h5', save_best_only=True, monitor=Mon_Term, mode=Mode, verbose=1)]\n",
    "\n",
    "#     history = model.fit(X, y, validation_data=(X_val, y_val), batch_size=BS, epochs=EP, callbacks=cb, verbose=1)\n",
    "#     save_the_model(filename, model)\n",
    "#     write_history(filename, history.history)\n",
    "#     plt.figure(figsize=(5.5,3.2))\n",
    "#     prediction(X_test, y_test, filename, title)"
   ]
  },
  {
   "cell_type": "code",
   "execution_count": 5,
   "id": "infinite-arkansas",
   "metadata": {},
   "outputs": [
    {
     "name": "stdout",
     "output_type": "stream",
     "text": [
      "(40955, 186, 1) (40955,)\n",
      "(array([0., 1., 2.]), array([31181,  2358,  7416]))\n",
      "(40955, 3)\n",
      "(203187, 186, 1) (203187,)\n",
      "(array([0., 1., 2.]), array([155008,  12564,  35615]))\n",
      "(203187, 3)\n"
     ]
    }
   ],
   "source": [
    "# Mon_Term = 'val_AUC'\n",
    "# Mode = 'max'\n",
    "\n",
    "Mon_Term = 'val_loss'\n",
    "Mode = 'min'\n",
    "\n",
    "Model_Name = 'GAP_'\n",
    "def load_model_train(WINDOW_SIZE,INPUT_FEAT,OUTPUT_CLASS):\n",
    "    return Parallel_GAP(WINDOW_SIZE,INPUT_FEAT,OUTPUT_CLASS)\n",
    "\n",
    "# results = 'LSTM_'\n",
    "# def load_model_train(WINDOW_SIZE,INPUT_FEAT,OUTPUT_CLASS):\n",
    "#     return parallel_NN_LSTM(WINDOW_SIZE,INPUT_FEAT,OUTPUT_CLASS)\n",
    "\n",
    "results = 'Class_Results_' + Model_Name + Mon_Term\n",
    "if not os.path.exists(str(results)):\n",
    "    os.makedirs(str(results))\n",
    "\n",
    "BS = 256\n",
    "EP = 100\n",
    "Pat = 6\n",
    "\n",
    "X_val, y_val, X_test, y_test = load_data()"
   ]
  },
  {
   "cell_type": "code",
   "execution_count": 6,
   "id": "dominican-transition",
   "metadata": {},
   "outputs": [
    {
     "name": "stdout",
     "output_type": "stream",
     "text": [
      "(array([0., 1., 2.]), array([130681, 130649, 130842]))\n",
      "(392172, 186, 1) (392172, 3)\n"
     ]
    }
   ],
   "source": [
    "title = '2053'\n",
    "load_and_run_model(title, results, BS, EP, Pat, Mon_Term, Mode, X_val, y_val, X_test, y_test)"
   ]
  },
  {
   "cell_type": "code",
   "execution_count": 7,
   "id": "gothic-overhead",
   "metadata": {},
   "outputs": [
    {
     "name": "stdout",
     "output_type": "stream",
     "text": [
      "(array([0., 1., 2.]), array([130681, 130649, 130842]))\n",
      "(392172, 186, 1) (392172, 3)\n"
     ]
    }
   ],
   "source": [
    "title = '2055'\n",
    "load_and_run_model(title, results, BS, EP, Pat, Mon_Term, Mode, X_val, y_val, X_test, y_test)"
   ]
  },
  {
   "cell_type": "code",
   "execution_count": 8,
   "id": "conditional-characterization",
   "metadata": {},
   "outputs": [
    {
     "name": "stdout",
     "output_type": "stream",
     "text": [
      "(array([0., 1., 2.]), array([130681, 130649, 130842]))\n",
      "(392172, 186, 1) (392172, 3)\n"
     ]
    }
   ],
   "source": [
    "title = '2057'\n",
    "load_and_run_model(title, results, BS, EP, Pat, Mon_Term, Mode, X_val, y_val, X_test, y_test)"
   ]
  },
  {
   "cell_type": "code",
   "execution_count": 9,
   "id": "experienced-underground",
   "metadata": {},
   "outputs": [
    {
     "name": "stdout",
     "output_type": "stream",
     "text": [
      "(array([0., 1., 2.]), array([130681, 130649, 130842]))\n",
      "(392172, 186, 1) (392172, 3)\n"
     ]
    }
   ],
   "source": [
    "title = '3011'\n",
    "load_and_run_model(title, results, BS, EP, Pat, Mon_Term, Mode, X_val, y_val, X_test, y_test)"
   ]
  },
  {
   "cell_type": "code",
   "execution_count": 10,
   "id": "hindu-rebound",
   "metadata": {},
   "outputs": [
    {
     "name": "stdout",
     "output_type": "stream",
     "text": [
      "(array([0., 1., 2.]), array([130681, 130649, 130842]))\n",
      "(392172, 186, 1) (392172, 3)\n"
     ]
    }
   ],
   "source": [
    "title = '4069'\n",
    "load_and_run_model(title, results, BS, EP, Pat, Mon_Term, Mode, X_val, y_val, X_test, y_test)"
   ]
  },
  {
   "cell_type": "code",
   "execution_count": 11,
   "id": "portuguese-classics",
   "metadata": {},
   "outputs": [
    {
     "name": "stdout",
     "output_type": "stream",
     "text": [
      "(array([0., 1., 2.]), array([130681, 130649, 130842]))\n",
      "(392172, 186, 1) (392172, 3)\n"
     ]
    }
   ],
   "source": [
    "title = '5023'\n",
    "load_and_run_model(title, results, BS, EP, Pat, Mon_Term, Mode, X_val, y_val, X_test, y_test)"
   ]
  },
  {
   "cell_type": "code",
   "execution_count": 12,
   "id": "united-provision",
   "metadata": {},
   "outputs": [
    {
     "name": "stdout",
     "output_type": "stream",
     "text": [
      "(array([0., 1., 2.]), array([130681, 130649, 130842]))\n",
      "(392172, 186, 1) (392172, 3)\n"
     ]
    }
   ],
   "source": [
    "title = '5025'\n",
    "load_and_run_model(title, results, BS, EP, Pat, Mon_Term, Mode, X_val, y_val, X_test, y_test)"
   ]
  },
  {
   "cell_type": "code",
   "execution_count": 13,
   "id": "hidden-virginia",
   "metadata": {},
   "outputs": [
    {
     "name": "stdout",
     "output_type": "stream",
     "text": [
      "(array([0., 1., 2.]), array([130681, 130649, 130842]))\n",
      "(392172, 186, 1) (392172, 3)\n"
     ]
    }
   ],
   "source": [
    "title = '6039'\n",
    "load_and_run_model(title, results, BS, EP, Pat, Mon_Term, Mode, X_val, y_val, X_test, y_test)"
   ]
  },
  {
   "cell_type": "code",
   "execution_count": 14,
   "id": "subject-supplement",
   "metadata": {},
   "outputs": [
    {
     "name": "stdout",
     "output_type": "stream",
     "text": [
      "(array([0., 1., 2.]), array([130681, 130649, 130842]))\n",
      "(392172, 186, 1) (392172, 3)\n"
     ]
    }
   ],
   "source": [
    "title = '6049'\n",
    "load_and_run_model(title, results, BS, EP, Pat, Mon_Term, Mode, X_val, y_val, X_test, y_test)"
   ]
  },
  {
   "cell_type": "code",
   "execution_count": 15,
   "id": "computational-intake",
   "metadata": {},
   "outputs": [
    {
     "name": "stdout",
     "output_type": "stream",
     "text": [
      "(array([0., 1., 2.]), array([130681, 130649, 130842]))\n",
      "(392172, 186, 1) (392172, 3)\n"
     ]
    }
   ],
   "source": [
    "title = '6063'\n",
    "load_and_run_model(title, results, BS, EP, Pat, Mon_Term, Mode, X_val, y_val, X_test, y_test)"
   ]
  },
  {
   "cell_type": "code",
   "execution_count": 16,
   "id": "behavioral-easter",
   "metadata": {},
   "outputs": [
    {
     "name": "stdout",
     "output_type": "stream",
     "text": [
      "(array([0., 1., 2.]), array([130681, 130649, 130842]))\n",
      "(392172, 186, 1) (392172, 3)\n"
     ]
    }
   ],
   "source": [
    "title = '7057'\n",
    "load_and_run_model(title, results, BS, EP, Pat, Mon_Term, Mode, X_val, y_val, X_test, y_test)"
   ]
  },
  {
   "cell_type": "code",
   "execution_count": 17,
   "id": "noted-disorder",
   "metadata": {},
   "outputs": [
    {
     "name": "stdout",
     "output_type": "stream",
     "text": [
      "(array([0., 1., 2.]), array([130681, 130649, 130842]))\n",
      "(392172, 186, 1) (392172, 3)\n"
     ]
    }
   ],
   "source": [
    "title = '8069'\n",
    "load_and_run_model(title, results, BS, EP, Pat, Mon_Term, Mode, X_val, y_val, X_test, y_test)"
   ]
  },
  {
   "cell_type": "code",
   "execution_count": 18,
   "id": "roman-messaging",
   "metadata": {
    "scrolled": true
   },
   "outputs": [],
   "source": [
    "# title = '2053'\n",
    "# X = reshape(np.load('Data/GAN_GEN/'+ title+'_X.npy'))\n",
    "# y = np.load('Data/GAN_GEN/'+ title+'_y.npy')\n",
    "# print (np.unique(y, return_counts=True))\n",
    "# y = to_categorical(y)\n",
    "# print (X.shape, y.shape)\n",
    "\n",
    "# filename = os.path.join(results,title)\n",
    "# if not os.path.exists(str(filename)):\n",
    "#     os.makedirs(str(filename))\n",
    "\n",
    "# model = load_model_train(WINDOW_SIZE,INPUT_FEAT,OUTPUT_CLASS)\n",
    "# cb = [keras.callbacks.EarlyStopping(monitor=Mon_Term, patience=Pat, verbose=1, mode=Mode), \n",
    "#       ModelCheckpoint(filename+'/check.h5', save_best_only=True, monitor=Mon_Term, mode=Mode, verbose=1)]\n",
    "\n",
    "# history = model.fit(X, y, validation_data=(X_val, y_val), batch_size=BS, epochs=EP, callbacks=cb, verbose=1)\n",
    "# save_the_model(filename, model)\n",
    "# write_history(filename, history.history)\n",
    "# prediction(X_test, y_test, filename, title)"
   ]
  }
 ],
 "metadata": {
  "kernelspec": {
   "display_name": "Python 3",
   "language": "python",
   "name": "python3"
  },
  "language_info": {
   "codemirror_mode": {
    "name": "ipython",
    "version": 3
   },
   "file_extension": ".py",
   "mimetype": "text/x-python",
   "name": "python",
   "nbconvert_exporter": "python",
   "pygments_lexer": "ipython3",
   "version": "3.6.9"
  }
 },
 "nbformat": 4,
 "nbformat_minor": 5
}
