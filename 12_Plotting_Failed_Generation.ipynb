{
 "cells": [
  {
   "cell_type": "code",
   "execution_count": 1,
   "id": "surprising-record",
   "metadata": {},
   "outputs": [],
   "source": [
    "%config Completer.use_jedi = False\n",
    "\n",
    "import os\n",
    "import numpy as np\n",
    "import matplotlib.pyplot as plt"
   ]
  },
  {
   "cell_type": "code",
   "execution_count": 7,
   "id": "widespread-staff",
   "metadata": {},
   "outputs": [
    {
     "name": "stdout",
     "output_type": "stream",
     "text": [
      "(80000, 186) (24227, 186) (71985, 186)\n"
     ]
    }
   ],
   "source": [
    "X = np.load('Data/ForGAN/X.npy')\n",
    "y = np.load('Data/ForGAN/y.npy')\n",
    "\n",
    "N = X[y==0]\n",
    "S = X[y==1]\n",
    "V = X[y==2]\n",
    "\n",
    "print (N.shape, S.shape, V.shape)"
   ]
  },
  {
   "cell_type": "code",
   "execution_count": 14,
   "id": "neutral-nightlife",
   "metadata": {},
   "outputs": [
    {
     "name": "stdout",
     "output_type": "stream",
     "text": [
      "(392172, 186, 1) (392172,)\n",
      "(130681, 186) (130649, 186) (130842, 186)\n"
     ]
    }
   ],
   "source": [
    "X_6049 = np.load('Data/GAN_GEN/'+ '2053'+'_X.npy')\n",
    "y_6049 = np.load('Data/GAN_GEN/'+ '2053'+'_y.npy')\n",
    "\n",
    "\n",
    "print (X_6049.shape, y_6049.shape)\n",
    "\n",
    "\n",
    "N_6049 = np.squeeze(X_6049[y_6049==0])\n",
    "S_6049 = np.squeeze(X_6049[y_6049==1])\n",
    "V_6049 = np.squeeze(X_6049[y_6049==2])\n",
    "\n",
    "print (N_6049.shape, S_6049.shape, V_6049.shape)"
   ]
  },
  {
   "cell_type": "code",
   "execution_count": 15,
   "id": "known-fifth",
   "metadata": {},
   "outputs": [],
   "source": [
    "plt.plot(N[0], 'k')\n",
    "plt.axis('off')\n",
    "plt.savefig('Paper/FailedPlots/N.png', dpi=200)\n",
    "plt.close()\n",
    "\n",
    "for i in range(N.shape[0],N_6049.shape[0],1000):\n",
    "    plt.axis('off')\n",
    "    plt.plot(N_6049[i], 'k')\n",
    "    name = 'Paper/FailedPlots/N_6049_' + str(i) + '.png'\n",
    "    plt.savefig(name, dpi=200)\n",
    "    plt.close()"
   ]
  },
  {
   "cell_type": "code",
   "execution_count": 16,
   "id": "sorted-brighton",
   "metadata": {},
   "outputs": [],
   "source": [
    "plt.plot(S[1], 'k')\n",
    "plt.axis('off')\n",
    "plt.savefig('Paper/FailedPlots/S.png', dpi=200)\n",
    "plt.close()\n",
    "\n",
    "for i in range(S.shape[0],S_6049.shape[0],1000):\n",
    "    plt.axis('off')\n",
    "    plt.plot(S_6049[i], 'k')\n",
    "    name = 'Paper/FailedPlots/S_6049_' + str(i) + '.png'\n",
    "    plt.savefig(name, dpi=200)\n",
    "    plt.close()"
   ]
  },
  {
   "cell_type": "code",
   "execution_count": 17,
   "id": "fifteen-eugene",
   "metadata": {},
   "outputs": [],
   "source": [
    "plt.plot(V[2], 'k')\n",
    "plt.axis('off')\n",
    "plt.savefig('Paper/FailedPlots/V.png', dpi=200)\n",
    "plt.close()\n",
    "\n",
    "for i in range(V.shape[0],V_6049.shape[0],100):\n",
    "    plt.axis('off')\n",
    "    plt.plot(V_6049[i], 'k')\n",
    "    name = 'Paper/FailedPlots/V_6049_' + str(i) + '.png'\n",
    "    plt.savefig(name, dpi=200)\n",
    "    plt.close()"
   ]
  },
  {
   "cell_type": "code",
   "execution_count": null,
   "id": "amended-charles",
   "metadata": {},
   "outputs": [],
   "source": []
  }
 ],
 "metadata": {
  "kernelspec": {
   "display_name": "Python 3",
   "language": "python",
   "name": "python3"
  },
  "language_info": {
   "codemirror_mode": {
    "name": "ipython",
    "version": 3
   },
   "file_extension": ".py",
   "mimetype": "text/x-python",
   "name": "python",
   "nbconvert_exporter": "python",
   "pygments_lexer": "ipython3",
   "version": "3.6.9"
  }
 },
 "nbformat": 4,
 "nbformat_minor": 5
}
