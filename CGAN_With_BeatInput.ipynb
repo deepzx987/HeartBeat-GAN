{
 "cells": [
  {
   "cell_type": "markdown",
   "id": "worst-potential",
   "metadata": {},
   "source": [
    "#### Sigmoid in Generator, Soft Labels, Gaussian Noise\n",
    "\n",
    "# TODO\n",
    "#### add and train a classifier use k fold also, generator k lie combined data and disc k lie train data.. coz testing me sara deke bias ho jaega"
   ]
  },
  {
   "cell_type": "code",
   "execution_count": 1,
   "id": "surprising-record",
   "metadata": {},
   "outputs": [],
   "source": [
    "%config Completer.use_jedi = False\n",
    "\n",
    "import os\n",
    "\n",
    "os.environ[\"CUDA_DEVICE_ORDER\"] = \"PCI_BUS_ID\"   # see issue #152\n",
    "os.environ[\"CUDA_VISIBLE_DEVICES\"] = \"\"\n",
    "\n",
    "# example of training an conditional gan on the fashion mnist dataset\n",
    "from numpy import expand_dims\n",
    "from numpy import zeros\n",
    "from numpy import ones\n",
    "import keras\n",
    "from numpy.random import randn\n",
    "from numpy.random import randint\n",
    "from keras.optimizers import Adam\n",
    "from keras.callbacks import EarlyStopping, ModelCheckpoint, ReduceLROnPlateau, LearningRateScheduler\n",
    "from keras.utils import plot_model\n",
    "from keras.models import Model\n",
    "from keras.layers import Input, Reshape, multiply, Embedding, merge, Concatenate, Conv1D, BatchNormalization\n",
    "from keras.layers import Dense, Flatten, Multiply\n",
    "from keras.layers.advanced_activations import LeakyReLU\n",
    "import numpy as np\n",
    "from numpy import asarray\n",
    "import matplotlib.pyplot as plt\n",
    "from keras.layers import UpSampling1D\n",
    "from keras.layers.core import Activation\n",
    "from keras.layers import Add\n",
    "import tensorflow as tf\n",
    "from evaluation_metrics import *\n",
    "metric_to_calculate = ['FID', 'MMD', 'DTW', 'PC', 'RMSE', 'TWED']"
   ]
  },
  {
   "cell_type": "code",
   "execution_count": 2,
   "id": "bronze-monkey",
   "metadata": {},
   "outputs": [],
   "source": [
    "def discriminator(data_dim, beat_dim=186):\n",
    "    \n",
    "    in_label = Input(shape=(beat_dim,1))\n",
    "    D_in = Input(shape=[data_dim,1])\n",
    "    x = Concatenate()([D_in, in_label])\n",
    "    \n",
    "    x = Conv1D(filters=32, kernel_size=4, strides=2, padding='same', kernel_initializer='he_normal')(x)\n",
    "#     x = BatchNormalization()(x)\n",
    "    x = LeakyReLU(alpha=0.2)(x)\n",
    "    \n",
    "    x = Conv1D(filters=32*2, kernel_size=4, strides=2, padding='same', kernel_initializer='he_normal')(x)\n",
    "#     x = BatchNormalization()(x)\n",
    "    x = LeakyReLU(alpha=0.2)(x)\n",
    "    \n",
    "    x = Conv1D(filters=32*4, kernel_size=4, strides=2, padding='same', kernel_initializer='he_normal')(x)\n",
    "#     x = BatchNormalization()(x)\n",
    "    x = LeakyReLU(alpha=0.2)(x)\n",
    "    \n",
    "    x = Conv1D(filters=32*8, kernel_size=4, strides=2, padding='same', kernel_initializer='he_normal')(x)\n",
    "#     x = BatchNormalization()(x)\n",
    "    x = LeakyReLU(alpha=0.2)(x)\n",
    "    \n",
    "    x = Conv1D(filters=32*16, kernel_size=4, strides=2, padding='same', kernel_initializer='he_normal')(x)\n",
    "#     x = BatchNormalization()(x)\n",
    "    x = LeakyReLU(alpha=0.2)(x)\n",
    "    \n",
    "    x = Flatten()(x)\n",
    "    out = Dense(1, activation='sigmoid')(x)\n",
    "    \n",
    "    model = Model(inputs=[D_in, in_label], outputs=out)\n",
    "    opt = Adam(lr=0.0002, beta_1=0.5)\n",
    "    loss = 'binary_crossentropy'\n",
    "    model.compile(loss=loss, optimizer=opt, metrics=['accuracy'])\n",
    "    return model\n",
    "\n",
    "# d_model = discriminator(data_dim=186, beat_dim=186)\n",
    "# plot_model(d_model, to_file='Final/disc.pdf', show_shapes=True)"
   ]
  },
  {
   "cell_type": "code",
   "execution_count": 3,
   "id": "northern-brook",
   "metadata": {},
   "outputs": [],
   "source": [
    "def generator(noise_dim=186, beat_dim=186, out_dim=186):\n",
    "    \n",
    "    in_label = Input(shape=(beat_dim,1))\n",
    "    G_in = Input(shape=[noise_dim,1])\n",
    "    x = Concatenate()([G_in, in_label])\n",
    "    \n",
    "    x = UpSampling1D()(x)\n",
    "    x = Conv1D(filters=32*16, kernel_size=2, strides=2, padding='valid', kernel_initializer='he_normal')(x)\n",
    "#     x = BatchNormalization()(x)\n",
    "    x = Activation('relu')(x)\n",
    "\n",
    "    x = UpSampling1D()(x)\n",
    "    x = Conv1D(filters=32*8, kernel_size=4, strides=2, padding='same', kernel_initializer='he_normal')(x)\n",
    "#     x = BatchNormalization()(x)\n",
    "    x = Activation('relu')(x)\n",
    "    \n",
    "    x = UpSampling1D()(x)\n",
    "    x = Conv1D(filters=32*8, kernel_size=4, strides=2, padding='same', kernel_initializer='he_normal')(x)\n",
    "#     x = BatchNormalization()(x)\n",
    "    x = Activation('relu')(x)\n",
    "    \n",
    "    x = UpSampling1D()(x)\n",
    "    x = Conv1D(filters=32*4, kernel_size=4, strides=2, padding='same', kernel_initializer='he_normal')(x)\n",
    "#     x = BatchNormalization()(x)\n",
    "    x = Activation('relu')(x)\n",
    "    \n",
    "    x = UpSampling1D()(x)\n",
    "    x = Conv1D(filters=32*4, kernel_size=4, strides=2, padding='same', kernel_initializer='he_normal')(x)\n",
    "#     x = BatchNormalization()(x)\n",
    "    x = Activation('relu')(x)\n",
    "    \n",
    "    x = UpSampling1D()(x)\n",
    "    x = Conv1D(filters=32*2, kernel_size=4, strides=2, padding='same', kernel_initializer='he_normal')(x)\n",
    "#     x = BatchNormalization()(x)\n",
    "    x = Activation('relu')(x)\n",
    "    \n",
    "    x = UpSampling1D()(x)\n",
    "    x = Conv1D(filters=32, kernel_size=4, strides=2, padding='same', kernel_initializer='he_normal')(x)\n",
    "#     x = BatchNormalization()(x)\n",
    "    x = Activation('relu')(x)\n",
    "    \n",
    "    x = UpSampling1D()(x)\n",
    "    x = Conv1D(filters=1, kernel_size=4, strides=2, padding='same', kernel_initializer='he_normal')(x)\n",
    "    out = Activation('tanh')(x)  # for tanh change here\n",
    "    model = Model(inputs=[G_in, in_label], outputs=out)\n",
    "\n",
    "    return model\n",
    "\n",
    "# g_model = generator(noise_dim=186, beat_dim=186, out_dim=186)\n",
    "# plot_model(g_model, to_file='Temp/gen.pdf', show_shapes=True)"
   ]
  },
  {
   "cell_type": "code",
   "execution_count": 4,
   "id": "written-disney",
   "metadata": {},
   "outputs": [],
   "source": [
    "def create_gan(d_model, g_model):\n",
    "    \n",
    "    # make weights in the discriminator not trainable\n",
    "    d_model.trainable = False\n",
    "    # get noise and label inputs from generator model\n",
    "    gen_noise, gen_beat = g_model.input\n",
    "    # get image output from the generator model\n",
    "    gen_output = g_model.output\n",
    "    # connect image output and label input from generator as inputs to discriminator\n",
    "    gan_output = d_model([gen_output, gen_beat])\n",
    "    # define gan model as taking noise and label and outputting a classification\n",
    "    model = Model([gen_noise, gen_beat], gan_output)\n",
    "    # compile model\n",
    "    opt = Adam(lr=0.0002, beta_1=0.5)\n",
    "    loss = 'binary_crossentropy'\n",
    "    model.compile(loss=loss, optimizer=opt)\n",
    "    return model\n",
    "\n",
    "# gan_model = create_gan(d_model, g_model)\n",
    "# plot_model(gan_model, to_file='Final/gan.pdf', show_shapes=True)"
   ]
  },
  {
   "cell_type": "code",
   "execution_count": 5,
   "id": "important-brake",
   "metadata": {},
   "outputs": [],
   "source": [
    "def reshape(X):\n",
    "    if len(X.shape) == 1:\n",
    "        X = X.reshape(X.shape[0], 1)\n",
    "        return X\n",
    "    else:\n",
    "        if X.shape[-1] == 1:\n",
    "            return X\n",
    "        else:\n",
    "            X = X.reshape(X.shape[0], X.shape[1], 1)\n",
    "            return X"
   ]
  },
  {
   "cell_type": "code",
   "execution_count": 6,
   "id": "vocal-medicaid",
   "metadata": {},
   "outputs": [],
   "source": [
    "def load_real_samples():\n",
    "    X = np.load('Data/X.npy')\n",
    "    y = np.load('Data/y.npy')\n",
    "\n",
    "    # print (X.shape, y.shape)\n",
    "\n",
    "    X_N = X[y==0]\n",
    "    X_S = X[y==1]\n",
    "    X_V = X[y==2]\n",
    "\n",
    "    y_N = y[y==0]\n",
    "    y_S = y[y==1]\n",
    "    y_V = y[y==2]\n",
    "\n",
    "    # print (X_N.shape, y_N.shape)\n",
    "    # print (X_S.shape, y_S.shape)\n",
    "    # print (X_V.shape, y_V.shape)\n",
    "\n",
    "#     X_N=X_N.reshape(X_N.shape[0],X_N.shape[1],1)\n",
    "#     X_S=X_S.reshape(X_S.shape[0],X_S.shape[1],1)\n",
    "#     X_V=X_V.reshape(X_V.shape[0],X_V.shape[1],1)\n",
    "\n",
    "    # print (X_N.shape, y_N.shape)\n",
    "    # print (X_S.shape, y_S.shape)\n",
    "    # print (X_V.shape, y_V.shape)\n",
    "    return reshape(X_N), y_N, reshape(X_S), y_S, reshape(X_V), y_V"
   ]
  },
  {
   "cell_type": "code",
   "execution_count": 7,
   "id": "certified-frost",
   "metadata": {},
   "outputs": [],
   "source": [
    "def generate_real_samples(X_N, y_N, X_S, y_S, X_V, y_V, n_samples):\n",
    "    \n",
    "    # choose random instances\n",
    "    i_N = randint(0, y_N.shape[0], int(n_samples/3))\n",
    "    i_S = randint(0, y_S.shape[0], int(n_samples/3))\n",
    "    i_V = randint(0, y_V.shape[0], int(n_samples/3))\n",
    "    \n",
    "    # select ECG and labels\n",
    "    X = np.vstack((X_N[i_N], X_S[i_S], X_V[i_V]))\n",
    "    labels = keras.utils.to_categorical(np.hstack((y_N[i_N], y_S[i_S], y_V[i_V])))\n",
    "    # print (labels.shape)\n",
    "    \n",
    "    # generate class labels\n",
    "    y = reshape(np.random.uniform(0.8, 1, n_samples))\n",
    "#     y = y.reshape(y.shape[0], 1)\n",
    "#     y = np.ones((n_samples, 1))\n",
    "    return [X, labels], y"
   ]
  },
  {
   "cell_type": "code",
   "execution_count": 8,
   "id": "bound-stomach",
   "metadata": {},
   "outputs": [],
   "source": [
    "# generate points in latent space as input for the generator\n",
    "# normal noise\n",
    "def generate_latent_points(latent_dim, n_samples, n_classes=3):\n",
    "    # generate points in the latent space\n",
    "#     X_fake = np.random.uniform(0, 1.0, size=[n_samples, latent_dim])\n",
    "    X_fake = np.random.normal(0,1.0,(n_samples,latent_dim))\n",
    "    # generate labels\n",
    "    labels_fake = np.hstack((np.zeros(int(n_samples/3)), np.ones(int(n_samples/3)), 2*np.ones(int(n_samples/3))))\n",
    "    np.random.shuffle(labels_fake)\n",
    "    return [reshape(X_fake), keras.utils.to_categorical(labels_fake)]"
   ]
  },
  {
   "cell_type": "code",
   "execution_count": 9,
   "id": "solar-animation",
   "metadata": {},
   "outputs": [],
   "source": [
    "# use the generator to generate n fake examples, with class labels\n",
    "def generate_fake_samples(generator, latent_dim, n_samples):\n",
    "    # generate points in latent space\n",
    "    z_input, labels_input = generate_latent_points(latent_dim, n_samples)\n",
    "    # predict outputs\n",
    "    ecgs = generator.predict([z_input, z_input])\n",
    "    # create class labels\n",
    "    y = reshape(np.random.uniform(0, 0.2, n_samples))\n",
    "#     y = y.reshape(y.shape[0], 1)\n",
    "#     y = np.zeros((n_samples, 1))\n",
    "    return [ecgs, labels_input], y"
   ]
  },
  {
   "cell_type": "code",
   "execution_count": 10,
   "id": "general-immigration",
   "metadata": {},
   "outputs": [],
   "source": [
    "# create and save a plot of generated images\n",
    "def save_plot(X, n):\n",
    "    plt.figure(figsize=(10,3))\n",
    "    for i in range(n * n):\n",
    "        # define subplot\n",
    "        plt.subplot(n, n, 1 + i)\n",
    "        # turn off axis\n",
    "        plt.axis('off')\n",
    "        # plot raw pixel data\n",
    "        plt.plot(X[i, :, 0])\n",
    "    plt.show()\n",
    "    plt.close()"
   ]
  },
  {
   "cell_type": "code",
   "execution_count": 11,
   "id": "communist-abuse",
   "metadata": {},
   "outputs": [],
   "source": [
    "def get_real_samples(X_N, y_N, X_S, y_S, X_V, y_V):\n",
    "    \n",
    "    # choose random instances\n",
    "    i_N = randint(0, y_N.shape[0], 1)\n",
    "    i_S = randint(0, y_S.shape[0], 1)\n",
    "    i_V = randint(0, y_V.shape[0], 1)\n",
    "    \n",
    "    # select ECG and labels\n",
    "    X = np.vstack((X_N[i_N], X_S[i_S], X_V[i_V]))\n",
    "    return X"
   ]
  },
  {
   "cell_type": "code",
   "execution_count": 12,
   "id": "speaking-gender",
   "metadata": {},
   "outputs": [],
   "source": [
    "def save_new_plot(X_R, z_input, n_batch, name):\n",
    "    n = 3\n",
    "    Win = (n_batch//3)\n",
    "    XX = np.vstack((X_R, z_input[0:n,:,:], z_input[Win:Win+n,:,:], z_input[2*Win:2*Win+n,:,:]))\n",
    "    plt.figure(figsize=(15,5))\n",
    "    for i in range(n):\n",
    "        # subplot(R, C, Plot_No)\n",
    "        plt.subplot(n+1, n, 1 + i)\n",
    "        plt.axis('off')\n",
    "        plt.plot(XX[i,:,:])\n",
    "    for i in range(n, ((n+1)*(n+1))-(n+1)):\n",
    "        # define subplot\n",
    "        plt.subplot(n+1, n, 1 + i)\n",
    "        # turn off axis\n",
    "        plt.axis('off')\n",
    "        # plot raw pixel data\n",
    "        plt.plot(XX[i,:,:])\n",
    "    # plt.show()\n",
    "    plt.savefig(name, dpi=75)\n",
    "    plt.close()"
   ]
  },
  {
   "cell_type": "code",
   "execution_count": 13,
   "id": "cubic-shirt",
   "metadata": {},
   "outputs": [
    {
     "name": "stdout",
     "output_type": "stream",
     "text": [
      ">0, 1/80, d1=0.34834, d2=2.85613 g=0.93427\n",
      ">0, 3/80, d1=1.25033, d2=0.39790 g=1.19153\n",
      ">0, 5/80, d1=0.65267, d2=0.75821 g=0.93890\n",
      ">0, 7/80, d1=0.63724, d2=0.71330 g=0.89854\n",
      ">0, 9/80, d1=0.64005, d2=0.55058 g=0.74723\n",
      ">0, 11/80, d1=0.57781, d2=0.49261 g=0.61276\n",
      ">0, 13/80, d1=0.51425, d2=0.44402 g=0.54493\n",
      ">0, 15/80, d1=0.44786, d2=0.42039 g=0.49544\n",
      ">0, 17/80, d1=0.40300, d2=0.40582 g=0.44852\n",
      ">0, 19/80, d1=0.39529, d2=0.37443 g=0.42376\n",
      ">0, 21/80, d1=0.37282, d2=0.36495 g=0.41161\n",
      ">0, 23/80, d1=0.36579, d2=0.34866 g=0.39098\n",
      ">0, 25/80, d1=0.36253, d2=0.36356 g=0.38958\n",
      ">0, 27/80, d1=0.37469, d2=0.34834 g=0.36312\n",
      ">0, 29/80, d1=0.37046, d2=0.31929 g=0.35371\n",
      ">0, 31/80, d1=0.33933, d2=0.35016 g=0.34904\n",
      ">0, 33/80, d1=0.33665, d2=0.34142 g=0.35174\n",
      ">0, 35/80, d1=0.34011, d2=0.34222 g=0.34627\n",
      ">0, 37/80, d1=0.36384, d2=0.33009 g=0.34379\n",
      ">0, 39/80, d1=0.35686, d2=0.30929 g=0.33772\n",
      ">0, 41/80, d1=0.33781, d2=0.31637 g=0.34915\n",
      ">0, 43/80, d1=0.33341, d2=0.32718 g=0.33823\n",
      ">0, 45/80, d1=0.33592, d2=0.34042 g=0.34036\n",
      ">0, 47/80, d1=0.33302, d2=0.32350 g=0.34948\n",
      ">0, 49/80, d1=0.32317, d2=0.32987 g=0.33308\n",
      ">0, 51/80, d1=0.31810, d2=0.31578 g=0.31980\n",
      ">0, 53/80, d1=0.34765, d2=0.33372 g=0.34453\n",
      ">0, 55/80, d1=0.32900, d2=0.34771 g=0.34737\n",
      ">0, 57/80, d1=0.34646, d2=0.33153 g=0.34696\n",
      ">0, 59/80, d1=0.32861, d2=0.34940 g=0.31941\n",
      ">0, 61/80, d1=0.32630, d2=0.34485 g=0.33334\n",
      ">0, 63/80, d1=0.35060, d2=0.33234 g=0.33893\n",
      ">0, 65/80, d1=0.33009, d2=0.31735 g=0.33043\n",
      ">0, 67/80, d1=0.33788, d2=0.31994 g=0.33606\n",
      ">0, 69/80, d1=0.33679, d2=0.34137 g=0.33304\n",
      ">0, 71/80, d1=0.34660, d2=0.31627 g=0.33737\n",
      ">0, 73/80, d1=0.34492, d2=0.31853 g=0.33979\n",
      ">0, 75/80, d1=0.33122, d2=0.33624 g=0.33704\n",
      ">0, 77/80, d1=0.33061, d2=0.32243 g=0.34068\n",
      ">0, 79/80, d1=0.32953, d2=0.35194 g=0.33208\n",
      ">1, 1/80, d1=0.35378, d2=0.33021 g=0.34501\n",
      ">1, 3/80, d1=0.31770, d2=0.32875 g=0.33983\n",
      ">1, 5/80, d1=0.33921, d2=0.33065 g=0.33364\n",
      ">1, 7/80, d1=0.34064, d2=0.33899 g=0.34809\n",
      ">1, 9/80, d1=0.33428, d2=0.32886 g=0.33113\n",
      ">1, 11/80, d1=0.33385, d2=0.32622 g=0.33914\n",
      ">1, 13/80, d1=0.33392, d2=0.32892 g=0.34047\n",
      ">1, 15/80, d1=0.33685, d2=0.32100 g=0.33970\n",
      ">1, 17/80, d1=0.34306, d2=0.34751 g=0.33054\n",
      ">1, 19/80, d1=0.33385, d2=0.33117 g=0.32795\n",
      ">1, 21/80, d1=0.32885, d2=0.34624 g=0.33142\n",
      ">1, 23/80, d1=0.35008, d2=0.34258 g=0.34083\n",
      ">1, 25/80, d1=0.34685, d2=0.32885 g=0.34534\n",
      ">1, 27/80, d1=0.32541, d2=0.31980 g=0.32811\n",
      ">1, 29/80, d1=0.32851, d2=0.32642 g=0.33158\n",
      ">1, 31/80, d1=0.34510, d2=0.32690 g=0.34073\n",
      ">1, 33/80, d1=0.31770, d2=0.32815 g=0.31933\n",
      ">1, 35/80, d1=0.32850, d2=0.34022 g=0.33017\n",
      ">1, 37/80, d1=0.36023, d2=0.33600 g=0.33461\n",
      ">1, 39/80, d1=0.31022, d2=0.31992 g=0.33495\n",
      ">1, 41/80, d1=0.32287, d2=0.33619 g=0.33071\n",
      ">1, 43/80, d1=0.33806, d2=0.34273 g=0.32561\n",
      ">1, 45/80, d1=0.34372, d2=0.32409 g=0.34761\n",
      ">1, 47/80, d1=0.33452, d2=0.33896 g=0.33769\n",
      ">1, 49/80, d1=0.33894, d2=0.32552 g=0.33058\n",
      ">1, 51/80, d1=0.33050, d2=0.32271 g=0.33055\n",
      ">1, 53/80, d1=0.33230, d2=0.33151 g=0.33040\n",
      ">1, 55/80, d1=0.31489, d2=0.32276 g=0.33939\n",
      ">1, 57/80, d1=0.32020, d2=0.34701 g=0.32683\n",
      ">1, 59/80, d1=0.34287, d2=0.33650 g=0.32937\n",
      ">1, 61/80, d1=0.33273, d2=0.31978 g=0.33779\n",
      ">1, 63/80, d1=0.31465, d2=0.33875 g=0.33668\n",
      ">1, 65/80, d1=0.33473, d2=0.32659 g=0.33251\n",
      ">1, 67/80, d1=0.33825, d2=0.33929 g=0.32994\n",
      ">1, 69/80, d1=0.33236, d2=0.34455 g=0.31791\n",
      ">1, 71/80, d1=0.32059, d2=0.33257 g=0.32265\n",
      ">1, 73/80, d1=0.32918, d2=0.32637 g=0.32554\n",
      ">1, 75/80, d1=0.33926, d2=0.32523 g=0.33292\n",
      ">1, 77/80, d1=0.32410, d2=0.32721 g=0.33011\n",
      ">1, 79/80, d1=0.33369, d2=0.33086 g=0.33136\n",
      ">2, 1/80, d1=0.33459, d2=0.32132 g=0.32567\n",
      ">2, 3/80, d1=0.32158, d2=0.34190 g=0.32967\n",
      ">2, 5/80, d1=0.33470, d2=0.32905 g=0.32562\n",
      ">2, 7/80, d1=0.34403, d2=0.33619 g=0.32051\n",
      ">2, 9/80, d1=0.34963, d2=0.32716 g=0.34380\n",
      ">2, 11/80, d1=0.34928, d2=0.32433 g=0.33002\n",
      ">2, 13/80, d1=0.33107, d2=0.32614 g=0.32709\n",
      ">2, 15/80, d1=0.32146, d2=0.34262 g=0.32050\n",
      ">2, 17/80, d1=0.34018, d2=0.33523 g=0.33941\n",
      ">2, 19/80, d1=0.34071, d2=0.30670 g=0.33861\n",
      ">2, 21/80, d1=0.32773, d2=0.33250 g=0.34046\n",
      ">2, 23/80, d1=0.32644, d2=0.30002 g=0.32893\n",
      ">2, 25/80, d1=0.32616, d2=0.33038 g=0.32972\n",
      ">2, 27/80, d1=0.34228, d2=0.32517 g=0.32933\n",
      ">2, 29/80, d1=0.34228, d2=0.32102 g=0.33896\n",
      ">2, 31/80, d1=0.34314, d2=0.34248 g=0.32808\n",
      ">2, 33/80, d1=0.33191, d2=0.32464 g=0.34227\n",
      ">2, 35/80, d1=0.33294, d2=0.34920 g=0.32698\n",
      ">2, 37/80, d1=0.33166, d2=0.32729 g=0.32419\n",
      ">2, 39/80, d1=0.33306, d2=0.32911 g=0.32918\n",
      ">2, 41/80, d1=0.33112, d2=0.33950 g=0.32162\n",
      ">2, 43/80, d1=0.34159, d2=0.31958 g=0.33352\n",
      ">2, 45/80, d1=0.35272, d2=0.32826 g=0.33929\n",
      ">2, 47/80, d1=0.34115, d2=0.33881 g=0.35993\n",
      ">2, 49/80, d1=0.38188, d2=0.32499 g=1.95921\n",
      ">2, 51/80, d1=5.35915, d2=0.36782 g=2.12784\n",
      ">2, 53/80, d1=0.80260, d2=0.39419 g=0.91245\n",
      ">2, 55/80, d1=0.65668, d2=0.43575 g=0.79447\n",
      ">2, 57/80, d1=0.54031, d2=0.40523 g=0.75641\n",
      ">2, 59/80, d1=0.49627, d2=0.37639 g=0.69496\n",
      ">2, 61/80, d1=0.53274, d2=0.36419 g=0.66417\n",
      ">2, 63/80, d1=0.47341, d2=0.36350 g=0.63852\n",
      ">2, 65/80, d1=0.51255, d2=0.35109 g=0.61023\n",
      ">2, 67/80, d1=0.45704, d2=0.35686 g=0.60595\n",
      ">2, 69/80, d1=0.48442, d2=0.35091 g=0.60012\n",
      ">2, 71/80, d1=0.46471, d2=0.34097 g=0.57953\n",
      ">2, 73/80, d1=0.44294, d2=0.35097 g=0.55111\n",
      ">2, 75/80, d1=0.47741, d2=0.34661 g=0.57840\n",
      ">2, 77/80, d1=0.44628, d2=0.35375 g=0.52063\n",
      ">2, 79/80, d1=0.43835, d2=0.33243 g=0.54620\n",
      ">3, 1/80, d1=0.43657, d2=0.34153 g=0.52051\n",
      ">3, 3/80, d1=0.42735, d2=0.34004 g=0.50624\n",
      ">3, 5/80, d1=0.44720, d2=0.33030 g=0.49090\n",
      ">3, 7/80, d1=0.42676, d2=0.32350 g=0.50740\n",
      ">3, 9/80, d1=0.41435, d2=0.32610 g=0.49180\n",
      ">3, 11/80, d1=0.41595, d2=0.34242 g=0.48682\n",
      ">3, 13/80, d1=0.41751, d2=0.32774 g=0.46353\n",
      ">3, 15/80, d1=0.42988, d2=0.34577 g=0.48170\n",
      ">3, 17/80, d1=0.38564, d2=0.33142 g=0.48445\n",
      ">3, 19/80, d1=0.39201, d2=0.33675 g=0.46086\n",
      ">3, 21/80, d1=0.38995, d2=0.31784 g=0.48965\n",
      ">3, 23/80, d1=0.42414, d2=0.32927 g=0.47288\n",
      ">3, 25/80, d1=0.37726, d2=0.32970 g=0.47771\n",
      ">3, 27/80, d1=0.38700, d2=0.33984 g=0.50027\n",
      ">3, 29/80, d1=0.39366, d2=0.32725 g=0.45777\n",
      ">3, 31/80, d1=0.38405, d2=0.31738 g=0.44986\n",
      ">3, 33/80, d1=0.41892, d2=0.31602 g=0.42735\n",
      ">3, 35/80, d1=0.39973, d2=0.31784 g=0.45213\n",
      ">3, 37/80, d1=0.38430, d2=0.32858 g=0.44691\n",
      ">3, 39/80, d1=0.37159, d2=0.32105 g=0.43075\n",
      ">3, 41/80, d1=0.36930, d2=0.32344 g=0.43299\n",
      ">3, 43/80, d1=0.35970, d2=0.33057 g=0.43215\n",
      ">3, 45/80, d1=0.38476, d2=0.33926 g=0.40246\n",
      ">3, 47/80, d1=0.38710, d2=0.32310 g=0.43515\n",
      ">3, 49/80, d1=0.37690, d2=0.34192 g=0.44219\n",
      ">3, 51/80, d1=0.36893, d2=0.32180 g=0.44552\n",
      ">3, 53/80, d1=0.35373, d2=0.32229 g=0.42614\n",
      ">3, 55/80, d1=0.36092, d2=0.30943 g=0.45736\n",
      ">3, 57/80, d1=0.36774, d2=0.32736 g=0.42203\n",
      ">3, 59/80, d1=0.35354, d2=0.31328 g=0.41464\n",
      ">3, 61/80, d1=0.37564, d2=0.33635 g=0.41917\n",
      ">3, 63/80, d1=0.35999, d2=0.33809 g=0.40693\n",
      ">3, 65/80, d1=0.37623, d2=0.32781 g=0.41381\n",
      ">3, 67/80, d1=0.35030, d2=0.33785 g=0.41321\n",
      ">3, 69/80, d1=0.36492, d2=0.33305 g=0.42044\n"
     ]
    },
    {
     "name": "stderr",
     "output_type": "stream",
     "text": [
      "/home/deepankar/p3tf2/lib/python3.6/site-packages/scipy/stats/stats.py:3845: PearsonRConstantInputWarning: An input array is constant; the correlation coefficent is not defined.\n",
      "  warnings.warn(PearsonRConstantInputWarning())\n"
     ]
    },
    {
     "name": "stdout",
     "output_type": "stream",
     "text": [
      ">3, 71/80, d1=0.34247, d2=0.32641 g=0.43599\n",
      ">3, 73/80, d1=0.33635, d2=0.31007 g=0.43206\n",
      ">3, 75/80, d1=0.33927, d2=0.33710 g=0.40188\n",
      ">3, 77/80, d1=0.34591, d2=0.34061 g=0.39416\n",
      ">3, 79/80, d1=0.35824, d2=0.32787 g=0.45769\n",
      ">4, 1/80, d1=0.36473, d2=0.33963 g=0.40855\n",
      ">4, 3/80, d1=0.35665, d2=0.31594 g=0.42432\n",
      ">4, 5/80, d1=0.37608, d2=0.40327 g=0.64939\n",
      ">4, 7/80, d1=0.46104, d2=0.34547 g=0.57257\n",
      ">4, 9/80, d1=0.41163, d2=0.33364 g=0.51902\n"
     ]
    },
    {
     "name": "stderr",
     "output_type": "stream",
     "text": [
      "/home/deepankar/p3tf2/lib/python3.6/site-packages/scipy/stats/stats.py:3845: PearsonRConstantInputWarning: An input array is constant; the correlation coefficent is not defined.\n",
      "  warnings.warn(PearsonRConstantInputWarning())\n"
     ]
    },
    {
     "name": "stdout",
     "output_type": "stream",
     "text": [
      ">4, 11/80, d1=0.35321, d2=0.33169 g=0.51711\n",
      ">4, 13/80, d1=0.36035, d2=0.31876 g=0.49085\n",
      ">4, 15/80, d1=0.35331, d2=0.32584 g=0.49421\n",
      ">4, 17/80, d1=0.36063, d2=0.32607 g=0.49773\n",
      ">4, 19/80, d1=0.36250, d2=0.35087 g=0.48925\n",
      ">4, 21/80, d1=0.34522, d2=0.34429 g=0.49508\n",
      ">4, 23/80, d1=0.35919, d2=0.33363 g=0.49417\n",
      ">4, 25/80, d1=0.35596, d2=0.33725 g=0.47634\n",
      ">4, 27/80, d1=0.34361, d2=0.34418 g=0.46328\n",
      ">4, 29/80, d1=0.36138, d2=0.31951 g=0.45482\n"
     ]
    },
    {
     "name": "stderr",
     "output_type": "stream",
     "text": [
      "/home/deepankar/p3tf2/lib/python3.6/site-packages/scipy/stats/stats.py:3845: PearsonRConstantInputWarning: An input array is constant; the correlation coefficent is not defined.\n",
      "  warnings.warn(PearsonRConstantInputWarning())\n",
      "/home/deepankar/p3tf2/lib/python3.6/site-packages/scipy/stats/stats.py:3845: PearsonRConstantInputWarning: An input array is constant; the correlation coefficent is not defined.\n",
      "  warnings.warn(PearsonRConstantInputWarning())\n",
      "/home/deepankar/p3tf2/lib/python3.6/site-packages/scipy/stats/stats.py:3845: PearsonRConstantInputWarning: An input array is constant; the correlation coefficent is not defined.\n",
      "  warnings.warn(PearsonRConstantInputWarning())\n"
     ]
    },
    {
     "name": "stdout",
     "output_type": "stream",
     "text": [
      ">4, 31/80, d1=0.35988, d2=0.32306 g=0.47967\n",
      ">4, 33/80, d1=0.38672, d2=0.32994 g=0.50305\n",
      ">4, 35/80, d1=0.34454, d2=0.34797 g=0.44465\n",
      ">4, 37/80, d1=0.34848, d2=0.32275 g=0.44419\n",
      ">4, 39/80, d1=0.35613, d2=0.34012 g=0.44737\n"
     ]
    },
    {
     "name": "stderr",
     "output_type": "stream",
     "text": [
      "/home/deepankar/p3tf2/lib/python3.6/site-packages/scipy/stats/stats.py:3845: PearsonRConstantInputWarning: An input array is constant; the correlation coefficent is not defined.\n",
      "  warnings.warn(PearsonRConstantInputWarning())\n",
      "/home/deepankar/p3tf2/lib/python3.6/site-packages/scipy/stats/stats.py:3845: PearsonRConstantInputWarning: An input array is constant; the correlation coefficent is not defined.\n",
      "  warnings.warn(PearsonRConstantInputWarning())\n"
     ]
    },
    {
     "name": "stdout",
     "output_type": "stream",
     "text": [
      ">4, 41/80, d1=0.35008, d2=0.33321 g=0.44401\n",
      ">4, 43/80, d1=0.37145, d2=0.33697 g=0.43673\n",
      ">4, 45/80, d1=0.35472, d2=0.32903 g=0.46661\n",
      ">4, 47/80, d1=0.34661, d2=0.31844 g=0.45078\n",
      ">4, 49/80, d1=0.35716, d2=0.33878 g=0.43341\n"
     ]
    },
    {
     "name": "stderr",
     "output_type": "stream",
     "text": [
      "/home/deepankar/p3tf2/lib/python3.6/site-packages/scipy/stats/stats.py:3845: PearsonRConstantInputWarning: An input array is constant; the correlation coefficent is not defined.\n",
      "  warnings.warn(PearsonRConstantInputWarning())\n",
      "/home/deepankar/p3tf2/lib/python3.6/site-packages/scipy/stats/stats.py:3845: PearsonRConstantInputWarning: An input array is constant; the correlation coefficent is not defined.\n",
      "  warnings.warn(PearsonRConstantInputWarning())\n"
     ]
    },
    {
     "name": "stdout",
     "output_type": "stream",
     "text": [
      ">4, 51/80, d1=0.35119, d2=0.31988 g=0.43746\n",
      ">4, 53/80, d1=0.34718, d2=0.32511 g=0.42786\n",
      ">4, 55/80, d1=0.32589, d2=0.32853 g=0.40280\n",
      ">4, 57/80, d1=0.34353, d2=0.33104 g=0.42942\n",
      ">4, 59/80, d1=0.32678, d2=0.33133 g=0.42680\n",
      ">4, 61/80, d1=0.33464, d2=0.33026 g=0.41937\n",
      ">4, 63/80, d1=0.33591, d2=0.31637 g=0.43300\n",
      ">4, 65/80, d1=0.33823, d2=0.32236 g=0.46628\n",
      ">4, 67/80, d1=0.34966, d2=0.32063 g=0.42306\n",
      ">4, 69/80, d1=0.35635, d2=0.31797 g=0.41524\n"
     ]
    },
    {
     "name": "stderr",
     "output_type": "stream",
     "text": [
      "/home/deepankar/p3tf2/lib/python3.6/site-packages/scipy/stats/stats.py:3845: PearsonRConstantInputWarning: An input array is constant; the correlation coefficent is not defined.\n",
      "  warnings.warn(PearsonRConstantInputWarning())\n",
      "/home/deepankar/p3tf2/lib/python3.6/site-packages/scipy/stats/stats.py:3845: PearsonRConstantInputWarning: An input array is constant; the correlation coefficent is not defined.\n",
      "  warnings.warn(PearsonRConstantInputWarning())\n"
     ]
    },
    {
     "name": "stdout",
     "output_type": "stream",
     "text": [
      ">4, 71/80, d1=0.33560, d2=0.33107 g=0.40880\n",
      ">4, 73/80, d1=0.33903, d2=0.30618 g=0.41309\n",
      ">4, 75/80, d1=0.33504, d2=0.32903 g=0.40288\n",
      ">4, 77/80, d1=0.34321, d2=0.33012 g=0.39613\n",
      ">4, 79/80, d1=0.35230, d2=0.30989 g=0.40769\n"
     ]
    },
    {
     "name": "stderr",
     "output_type": "stream",
     "text": [
      "/home/deepankar/p3tf2/lib/python3.6/site-packages/scipy/stats/stats.py:3845: PearsonRConstantInputWarning: An input array is constant; the correlation coefficent is not defined.\n",
      "  warnings.warn(PearsonRConstantInputWarning())\n",
      "/home/deepankar/p3tf2/lib/python3.6/site-packages/scipy/stats/stats.py:3845: PearsonRConstantInputWarning: An input array is constant; the correlation coefficent is not defined.\n",
      "  warnings.warn(PearsonRConstantInputWarning())\n",
      "/home/deepankar/p3tf2/lib/python3.6/site-packages/scipy/stats/stats.py:3845: PearsonRConstantInputWarning: An input array is constant; the correlation coefficent is not defined.\n",
      "  warnings.warn(PearsonRConstantInputWarning())\n"
     ]
    },
    {
     "name": "stdout",
     "output_type": "stream",
     "text": [
      ">5, 1/80, d1=0.33901, d2=0.32919 g=0.38606\n",
      ">5, 3/80, d1=0.31181, d2=0.31827 g=0.37223\n",
      ">5, 5/80, d1=0.33240, d2=0.32469 g=0.38137\n",
      ">5, 7/80, d1=0.34314, d2=0.32447 g=0.41900\n",
      ">5, 9/80, d1=0.34669, d2=0.31717 g=0.40202\n"
     ]
    },
    {
     "name": "stderr",
     "output_type": "stream",
     "text": [
      "/home/deepankar/p3tf2/lib/python3.6/site-packages/scipy/stats/stats.py:3845: PearsonRConstantInputWarning: An input array is constant; the correlation coefficent is not defined.\n",
      "  warnings.warn(PearsonRConstantInputWarning())\n",
      "/home/deepankar/p3tf2/lib/python3.6/site-packages/scipy/stats/stats.py:3845: PearsonRConstantInputWarning: An input array is constant; the correlation coefficent is not defined.\n",
      "  warnings.warn(PearsonRConstantInputWarning())\n"
     ]
    },
    {
     "name": "stdout",
     "output_type": "stream",
     "text": [
      ">5, 11/80, d1=0.34609, d2=0.33689 g=0.38404\n",
      ">5, 13/80, d1=0.33290, d2=0.33692 g=0.38735\n",
      ">5, 15/80, d1=0.35161, d2=0.32944 g=0.41708\n",
      ">5, 17/80, d1=0.32856, d2=0.31829 g=0.37796\n",
      ">5, 19/80, d1=0.31529, d2=0.33529 g=0.37268\n"
     ]
    },
    {
     "name": "stderr",
     "output_type": "stream",
     "text": [
      "/home/deepankar/p3tf2/lib/python3.6/site-packages/scipy/stats/stats.py:3845: PearsonRConstantInputWarning: An input array is constant; the correlation coefficent is not defined.\n",
      "  warnings.warn(PearsonRConstantInputWarning())\n",
      "/home/deepankar/p3tf2/lib/python3.6/site-packages/scipy/stats/stats.py:3845: PearsonRConstantInputWarning: An input array is constant; the correlation coefficent is not defined.\n",
      "  warnings.warn(PearsonRConstantInputWarning())\n"
     ]
    },
    {
     "name": "stdout",
     "output_type": "stream",
     "text": [
      ">5, 21/80, d1=0.34455, d2=0.32185 g=0.38600\n",
      ">5, 23/80, d1=0.33783, d2=0.33877 g=0.38319\n",
      ">5, 25/80, d1=0.33746, d2=0.32792 g=0.36793\n",
      ">5, 27/80, d1=0.34148, d2=0.33328 g=0.40499\n",
      ">5, 29/80, d1=0.36143, d2=0.34187 g=0.38088\n"
     ]
    },
    {
     "name": "stderr",
     "output_type": "stream",
     "text": [
      "/home/deepankar/p3tf2/lib/python3.6/site-packages/scipy/stats/stats.py:3845: PearsonRConstantInputWarning: An input array is constant; the correlation coefficent is not defined.\n",
      "  warnings.warn(PearsonRConstantInputWarning())\n",
      "/home/deepankar/p3tf2/lib/python3.6/site-packages/scipy/stats/stats.py:3845: PearsonRConstantInputWarning: An input array is constant; the correlation coefficent is not defined.\n",
      "  warnings.warn(PearsonRConstantInputWarning())\n"
     ]
    },
    {
     "name": "stdout",
     "output_type": "stream",
     "text": [
      ">5, 31/80, d1=0.35834, d2=0.31096 g=0.39039\n",
      ">5, 33/80, d1=0.33925, d2=0.31938 g=0.37683\n",
      ">5, 35/80, d1=0.33866, d2=0.32496 g=0.42197\n",
      ">5, 37/80, d1=0.34569, d2=0.33281 g=0.39244\n",
      ">5, 39/80, d1=0.34341, d2=0.33608 g=0.39075\n"
     ]
    },
    {
     "name": "stderr",
     "output_type": "stream",
     "text": [
      "/home/deepankar/p3tf2/lib/python3.6/site-packages/scipy/stats/stats.py:3845: PearsonRConstantInputWarning: An input array is constant; the correlation coefficent is not defined.\n",
      "  warnings.warn(PearsonRConstantInputWarning())\n",
      "/home/deepankar/p3tf2/lib/python3.6/site-packages/scipy/stats/stats.py:3845: PearsonRConstantInputWarning: An input array is constant; the correlation coefficent is not defined.\n",
      "  warnings.warn(PearsonRConstantInputWarning())\n"
     ]
    },
    {
     "name": "stdout",
     "output_type": "stream",
     "text": [
      ">5, 41/80, d1=0.32734, d2=0.32682 g=0.38161\n",
      ">5, 43/80, d1=0.33949, d2=0.33944 g=0.36712\n",
      ">5, 45/80, d1=0.34363, d2=0.33683 g=0.36942\n",
      ">5, 47/80, d1=0.32610, d2=0.33566 g=0.36142\n",
      ">5, 49/80, d1=0.33181, d2=0.32761 g=0.36766\n"
     ]
    },
    {
     "name": "stderr",
     "output_type": "stream",
     "text": [
      "/home/deepankar/p3tf2/lib/python3.6/site-packages/scipy/stats/stats.py:3845: PearsonRConstantInputWarning: An input array is constant; the correlation coefficent is not defined.\n",
      "  warnings.warn(PearsonRConstantInputWarning())\n",
      "/home/deepankar/p3tf2/lib/python3.6/site-packages/scipy/stats/stats.py:3845: PearsonRConstantInputWarning: An input array is constant; the correlation coefficent is not defined.\n",
      "  warnings.warn(PearsonRConstantInputWarning())\n"
     ]
    },
    {
     "name": "stdout",
     "output_type": "stream",
     "text": [
      ">5, 51/80, d1=0.32674, d2=0.30718 g=0.36268\n",
      ">5, 53/80, d1=0.33850, d2=0.34776 g=0.43688\n",
      ">5, 55/80, d1=0.37814, d2=0.34131 g=0.40996\n",
      ">5, 57/80, d1=0.35561, d2=0.32964 g=0.37924\n",
      ">5, 59/80, d1=0.33113, d2=0.32482 g=0.36287\n"
     ]
    },
    {
     "name": "stderr",
     "output_type": "stream",
     "text": [
      "/home/deepankar/p3tf2/lib/python3.6/site-packages/scipy/stats/stats.py:3845: PearsonRConstantInputWarning: An input array is constant; the correlation coefficent is not defined.\n",
      "  warnings.warn(PearsonRConstantInputWarning())\n",
      "/home/deepankar/p3tf2/lib/python3.6/site-packages/scipy/stats/stats.py:3845: PearsonRConstantInputWarning: An input array is constant; the correlation coefficent is not defined.\n",
      "  warnings.warn(PearsonRConstantInputWarning())\n",
      "/home/deepankar/p3tf2/lib/python3.6/site-packages/scipy/stats/stats.py:3845: PearsonRConstantInputWarning: An input array is constant; the correlation coefficent is not defined.\n",
      "  warnings.warn(PearsonRConstantInputWarning())\n"
     ]
    },
    {
     "name": "stdout",
     "output_type": "stream",
     "text": [
      ">5, 61/80, d1=0.34264, d2=0.32496 g=0.37530\n",
      ">5, 63/80, d1=0.35070, d2=0.33430 g=0.36786\n",
      ">5, 65/80, d1=0.34303, d2=0.33188 g=0.37769\n",
      ">5, 67/80, d1=0.33527, d2=0.33474 g=0.35806\n",
      ">5, 69/80, d1=0.35027, d2=0.33194 g=0.35668\n"
     ]
    },
    {
     "name": "stderr",
     "output_type": "stream",
     "text": [
      "/home/deepankar/p3tf2/lib/python3.6/site-packages/scipy/stats/stats.py:3845: PearsonRConstantInputWarning: An input array is constant; the correlation coefficent is not defined.\n",
      "  warnings.warn(PearsonRConstantInputWarning())\n",
      "/home/deepankar/p3tf2/lib/python3.6/site-packages/scipy/stats/stats.py:3845: PearsonRConstantInputWarning: An input array is constant; the correlation coefficent is not defined.\n",
      "  warnings.warn(PearsonRConstantInputWarning())\n"
     ]
    },
    {
     "name": "stdout",
     "output_type": "stream",
     "text": [
      ">5, 71/80, d1=0.35309, d2=0.33574 g=0.35816\n",
      ">5, 73/80, d1=0.35231, d2=0.35980 g=0.41369\n",
      ">5, 75/80, d1=0.33266, d2=0.33171 g=0.39086\n",
      ">5, 77/80, d1=0.33595, d2=0.33116 g=0.36536\n",
      ">5, 79/80, d1=0.34198, d2=0.32807 g=0.35472\n"
     ]
    },
    {
     "name": "stderr",
     "output_type": "stream",
     "text": [
      "/home/deepankar/p3tf2/lib/python3.6/site-packages/scipy/stats/stats.py:3845: PearsonRConstantInputWarning: An input array is constant; the correlation coefficent is not defined.\n",
      "  warnings.warn(PearsonRConstantInputWarning())\n",
      "/home/deepankar/p3tf2/lib/python3.6/site-packages/scipy/stats/stats.py:3845: PearsonRConstantInputWarning: An input array is constant; the correlation coefficent is not defined.\n",
      "  warnings.warn(PearsonRConstantInputWarning())\n"
     ]
    },
    {
     "name": "stdout",
     "output_type": "stream",
     "text": [
      ">6, 1/80, d1=0.31763, d2=0.33521 g=0.35511\n",
      ">6, 3/80, d1=0.33893, d2=0.33590 g=0.35686\n",
      ">6, 5/80, d1=0.33549, d2=0.30616 g=0.35230\n",
      ">6, 7/80, d1=0.32816, d2=0.31555 g=0.37276\n",
      ">6, 9/80, d1=0.33213, d2=0.33524 g=0.34497\n"
     ]
    },
    {
     "name": "stderr",
     "output_type": "stream",
     "text": [
      "/home/deepankar/p3tf2/lib/python3.6/site-packages/scipy/stats/stats.py:3845: PearsonRConstantInputWarning: An input array is constant; the correlation coefficent is not defined.\n",
      "  warnings.warn(PearsonRConstantInputWarning())\n",
      "/home/deepankar/p3tf2/lib/python3.6/site-packages/scipy/stats/stats.py:3845: PearsonRConstantInputWarning: An input array is constant; the correlation coefficent is not defined.\n",
      "  warnings.warn(PearsonRConstantInputWarning())\n"
     ]
    },
    {
     "name": "stdout",
     "output_type": "stream",
     "text": [
      ">6, 11/80, d1=0.34076, d2=0.33714 g=0.34719\n",
      ">6, 13/80, d1=0.33899, d2=0.32357 g=0.37164\n",
      ">6, 15/80, d1=0.33037, d2=0.33225 g=0.35353\n",
      ">6, 17/80, d1=0.32328, d2=0.32050 g=0.35603\n",
      ">6, 19/80, d1=0.33528, d2=0.32986 g=0.35612\n"
     ]
    },
    {
     "name": "stderr",
     "output_type": "stream",
     "text": [
      "/home/deepankar/p3tf2/lib/python3.6/site-packages/scipy/stats/stats.py:3845: PearsonRConstantInputWarning: An input array is constant; the correlation coefficent is not defined.\n",
      "  warnings.warn(PearsonRConstantInputWarning())\n",
      "/home/deepankar/p3tf2/lib/python3.6/site-packages/scipy/stats/stats.py:3845: PearsonRConstantInputWarning: An input array is constant; the correlation coefficent is not defined.\n",
      "  warnings.warn(PearsonRConstantInputWarning())\n",
      "/home/deepankar/p3tf2/lib/python3.6/site-packages/scipy/stats/stats.py:3845: PearsonRConstantInputWarning: An input array is constant; the correlation coefficent is not defined.\n",
      "  warnings.warn(PearsonRConstantInputWarning())\n"
     ]
    },
    {
     "name": "stdout",
     "output_type": "stream",
     "text": [
      ">6, 21/80, d1=0.32875, d2=0.32751 g=0.34195\n",
      ">6, 23/80, d1=0.32656, d2=0.33171 g=0.35403\n",
      ">6, 25/80, d1=0.36467, d2=0.32767 g=0.35390\n",
      ">6, 27/80, d1=0.34936, d2=0.33210 g=0.37726\n",
      ">6, 29/80, d1=0.34231, d2=0.32949 g=0.36297\n"
     ]
    },
    {
     "name": "stderr",
     "output_type": "stream",
     "text": [
      "/home/deepankar/p3tf2/lib/python3.6/site-packages/scipy/stats/stats.py:3845: PearsonRConstantInputWarning: An input array is constant; the correlation coefficent is not defined.\n",
      "  warnings.warn(PearsonRConstantInputWarning())\n",
      "/home/deepankar/p3tf2/lib/python3.6/site-packages/scipy/stats/stats.py:3845: PearsonRConstantInputWarning: An input array is constant; the correlation coefficent is not defined.\n",
      "  warnings.warn(PearsonRConstantInputWarning())\n"
     ]
    },
    {
     "name": "stdout",
     "output_type": "stream",
     "text": [
      ">6, 31/80, d1=0.34122, d2=0.34492 g=0.35571\n",
      ">6, 33/80, d1=0.32286, d2=0.35128 g=0.33481\n",
      ">6, 35/80, d1=0.34235, d2=0.30568 g=0.34823\n",
      ">6, 37/80, d1=0.34587, d2=0.32685 g=0.35879\n",
      ">6, 39/80, d1=0.33494, d2=0.32703 g=0.34108\n"
     ]
    },
    {
     "name": "stderr",
     "output_type": "stream",
     "text": [
      "/home/deepankar/p3tf2/lib/python3.6/site-packages/scipy/stats/stats.py:3845: PearsonRConstantInputWarning: An input array is constant; the correlation coefficent is not defined.\n",
      "  warnings.warn(PearsonRConstantInputWarning())\n",
      "/home/deepankar/p3tf2/lib/python3.6/site-packages/scipy/stats/stats.py:3845: PearsonRConstantInputWarning: An input array is constant; the correlation coefficent is not defined.\n",
      "  warnings.warn(PearsonRConstantInputWarning())\n",
      "/home/deepankar/p3tf2/lib/python3.6/site-packages/scipy/stats/stats.py:3845: PearsonRConstantInputWarning: An input array is constant; the correlation coefficent is not defined.\n",
      "  warnings.warn(PearsonRConstantInputWarning())\n"
     ]
    },
    {
     "name": "stdout",
     "output_type": "stream",
     "text": [
      ">6, 41/80, d1=0.32892, d2=0.33896 g=0.34550\n",
      ">6, 43/80, d1=0.32141, d2=0.31632 g=0.34271\n",
      ">6, 45/80, d1=0.32950, d2=0.31914 g=0.34898\n",
      ">6, 47/80, d1=0.34014, d2=0.33347 g=0.33729\n",
      ">6, 49/80, d1=0.34196, d2=0.30811 g=0.35053\n"
     ]
    },
    {
     "name": "stderr",
     "output_type": "stream",
     "text": [
      "/home/deepankar/p3tf2/lib/python3.6/site-packages/scipy/stats/stats.py:3845: PearsonRConstantInputWarning: An input array is constant; the correlation coefficent is not defined.\n",
      "  warnings.warn(PearsonRConstantInputWarning())\n",
      "/home/deepankar/p3tf2/lib/python3.6/site-packages/scipy/stats/stats.py:3845: PearsonRConstantInputWarning: An input array is constant; the correlation coefficent is not defined.\n",
      "  warnings.warn(PearsonRConstantInputWarning())\n",
      "/home/deepankar/p3tf2/lib/python3.6/site-packages/scipy/stats/stats.py:3845: PearsonRConstantInputWarning: An input array is constant; the correlation coefficent is not defined.\n",
      "  warnings.warn(PearsonRConstantInputWarning())\n"
     ]
    },
    {
     "name": "stdout",
     "output_type": "stream",
     "text": [
      ">6, 51/80, d1=0.33648, d2=0.34561 g=0.35236\n",
      ">6, 53/80, d1=0.34123, d2=0.33522 g=0.32261\n",
      ">6, 55/80, d1=0.32017, d2=0.32411 g=0.33681\n",
      ">6, 57/80, d1=0.32147, d2=0.32545 g=0.34396\n",
      ">6, 59/80, d1=0.36580, d2=0.32635 g=0.36638\n"
     ]
    },
    {
     "name": "stderr",
     "output_type": "stream",
     "text": [
      "/home/deepankar/p3tf2/lib/python3.6/site-packages/scipy/stats/stats.py:3845: PearsonRConstantInputWarning: An input array is constant; the correlation coefficent is not defined.\n",
      "  warnings.warn(PearsonRConstantInputWarning())\n",
      "/home/deepankar/p3tf2/lib/python3.6/site-packages/scipy/stats/stats.py:3845: PearsonRConstantInputWarning: An input array is constant; the correlation coefficent is not defined.\n",
      "  warnings.warn(PearsonRConstantInputWarning())\n",
      "/home/deepankar/p3tf2/lib/python3.6/site-packages/scipy/stats/stats.py:3845: PearsonRConstantInputWarning: An input array is constant; the correlation coefficent is not defined.\n",
      "  warnings.warn(PearsonRConstantInputWarning())\n"
     ]
    },
    {
     "name": "stdout",
     "output_type": "stream",
     "text": [
      ">6, 61/80, d1=0.35259, d2=0.32842 g=0.35638\n",
      ">6, 63/80, d1=0.35046, d2=0.32434 g=0.33875\n",
      ">6, 65/80, d1=0.29799, d2=0.31316 g=0.33495\n",
      ">6, 67/80, d1=0.35509, d2=0.34991 g=0.33346\n",
      ">6, 69/80, d1=0.32110, d2=0.31029 g=0.34571\n"
     ]
    },
    {
     "name": "stderr",
     "output_type": "stream",
     "text": [
      "/home/deepankar/p3tf2/lib/python3.6/site-packages/scipy/stats/stats.py:3845: PearsonRConstantInputWarning: An input array is constant; the correlation coefficent is not defined.\n",
      "  warnings.warn(PearsonRConstantInputWarning())\n",
      "/home/deepankar/p3tf2/lib/python3.6/site-packages/scipy/stats/stats.py:3845: PearsonRConstantInputWarning: An input array is constant; the correlation coefficent is not defined.\n",
      "  warnings.warn(PearsonRConstantInputWarning())\n",
      "/home/deepankar/p3tf2/lib/python3.6/site-packages/scipy/stats/stats.py:3845: PearsonRConstantInputWarning: An input array is constant; the correlation coefficent is not defined.\n",
      "  warnings.warn(PearsonRConstantInputWarning())\n"
     ]
    },
    {
     "name": "stdout",
     "output_type": "stream",
     "text": [
      ">6, 71/80, d1=0.33937, d2=0.34073 g=0.34880\n",
      ">6, 73/80, d1=0.31920, d2=0.32160 g=0.34422\n",
      ">6, 75/80, d1=0.32581, d2=0.32408 g=0.32985\n",
      ">6, 77/80, d1=0.33337, d2=0.31669 g=0.33477\n",
      ">6, 79/80, d1=0.31372, d2=0.35203 g=0.32254\n"
     ]
    },
    {
     "name": "stderr",
     "output_type": "stream",
     "text": [
      "/home/deepankar/p3tf2/lib/python3.6/site-packages/scipy/stats/stats.py:3845: PearsonRConstantInputWarning: An input array is constant; the correlation coefficent is not defined.\n",
      "  warnings.warn(PearsonRConstantInputWarning())\n",
      "/home/deepankar/p3tf2/lib/python3.6/site-packages/scipy/stats/stats.py:3845: PearsonRConstantInputWarning: An input array is constant; the correlation coefficent is not defined.\n",
      "  warnings.warn(PearsonRConstantInputWarning())\n"
     ]
    },
    {
     "name": "stdout",
     "output_type": "stream",
     "text": [
      ">7, 1/80, d1=0.34454, d2=0.33595 g=0.34270\n",
      ">7, 3/80, d1=0.34839, d2=0.32438 g=0.32852\n",
      ">7, 5/80, d1=0.33797, d2=0.33213 g=0.33744\n",
      ">7, 7/80, d1=0.34271, d2=0.32608 g=0.33296\n",
      ">7, 9/80, d1=0.34144, d2=0.34167 g=0.33930\n"
     ]
    },
    {
     "name": "stderr",
     "output_type": "stream",
     "text": [
      "/home/deepankar/p3tf2/lib/python3.6/site-packages/scipy/stats/stats.py:3845: PearsonRConstantInputWarning: An input array is constant; the correlation coefficent is not defined.\n",
      "  warnings.warn(PearsonRConstantInputWarning())\n",
      "/home/deepankar/p3tf2/lib/python3.6/site-packages/scipy/stats/stats.py:3845: PearsonRConstantInputWarning: An input array is constant; the correlation coefficent is not defined.\n",
      "  warnings.warn(PearsonRConstantInputWarning())\n",
      "/home/deepankar/p3tf2/lib/python3.6/site-packages/scipy/stats/stats.py:3845: PearsonRConstantInputWarning: An input array is constant; the correlation coefficent is not defined.\n",
      "  warnings.warn(PearsonRConstantInputWarning())\n"
     ]
    },
    {
     "name": "stdout",
     "output_type": "stream",
     "text": [
      ">7, 11/80, d1=0.33263, d2=0.33421 g=0.33664\n",
      ">7, 13/80, d1=0.34736, d2=0.32895 g=0.32748\n",
      ">7, 15/80, d1=0.34000, d2=0.33442 g=0.32535\n",
      ">7, 17/80, d1=0.36103, d2=0.33154 g=0.34032\n",
      ">7, 19/80, d1=0.34766, d2=0.30637 g=0.33519\n"
     ]
    },
    {
     "name": "stderr",
     "output_type": "stream",
     "text": [
      "/home/deepankar/p3tf2/lib/python3.6/site-packages/scipy/stats/stats.py:3845: PearsonRConstantInputWarning: An input array is constant; the correlation coefficent is not defined.\n",
      "  warnings.warn(PearsonRConstantInputWarning())\n",
      "/home/deepankar/p3tf2/lib/python3.6/site-packages/scipy/stats/stats.py:3845: PearsonRConstantInputWarning: An input array is constant; the correlation coefficent is not defined.\n",
      "  warnings.warn(PearsonRConstantInputWarning())\n",
      "/home/deepankar/p3tf2/lib/python3.6/site-packages/scipy/stats/stats.py:3845: PearsonRConstantInputWarning: An input array is constant; the correlation coefficent is not defined.\n",
      "  warnings.warn(PearsonRConstantInputWarning())\n"
     ]
    },
    {
     "name": "stdout",
     "output_type": "stream",
     "text": [
      ">7, 21/80, d1=0.34930, d2=0.32999 g=0.35563\n",
      ">7, 23/80, d1=0.32480, d2=0.33854 g=0.32902\n",
      ">7, 25/80, d1=0.33956, d2=0.34791 g=0.34051\n",
      ">7, 27/80, d1=0.33032, d2=0.33542 g=0.34305\n",
      ">7, 29/80, d1=0.31601, d2=0.30645 g=0.33690\n"
     ]
    },
    {
     "name": "stderr",
     "output_type": "stream",
     "text": [
      "/home/deepankar/p3tf2/lib/python3.6/site-packages/scipy/stats/stats.py:3845: PearsonRConstantInputWarning: An input array is constant; the correlation coefficent is not defined.\n",
      "  warnings.warn(PearsonRConstantInputWarning())\n",
      "/home/deepankar/p3tf2/lib/python3.6/site-packages/scipy/stats/stats.py:3845: PearsonRConstantInputWarning: An input array is constant; the correlation coefficent is not defined.\n",
      "  warnings.warn(PearsonRConstantInputWarning())\n"
     ]
    },
    {
     "name": "stdout",
     "output_type": "stream",
     "text": [
      ">7, 31/80, d1=0.34934, d2=0.32551 g=0.34062\n",
      ">7, 33/80, d1=0.32066, d2=0.32778 g=0.31826\n",
      ">7, 35/80, d1=0.33623, d2=0.34771 g=0.32964\n",
      ">7, 37/80, d1=0.33814, d2=0.31769 g=0.34041\n",
      ">7, 39/80, d1=0.32182, d2=0.32790 g=0.32057\n"
     ]
    },
    {
     "name": "stderr",
     "output_type": "stream",
     "text": [
      "/home/deepankar/p3tf2/lib/python3.6/site-packages/scipy/stats/stats.py:3845: PearsonRConstantInputWarning: An input array is constant; the correlation coefficent is not defined.\n",
      "  warnings.warn(PearsonRConstantInputWarning())\n",
      "/home/deepankar/p3tf2/lib/python3.6/site-packages/scipy/stats/stats.py:3845: PearsonRConstantInputWarning: An input array is constant; the correlation coefficent is not defined.\n",
      "  warnings.warn(PearsonRConstantInputWarning())\n",
      "/home/deepankar/p3tf2/lib/python3.6/site-packages/scipy/stats/stats.py:3845: PearsonRConstantInputWarning: An input array is constant; the correlation coefficent is not defined.\n",
      "  warnings.warn(PearsonRConstantInputWarning())\n"
     ]
    },
    {
     "name": "stdout",
     "output_type": "stream",
     "text": [
      ">7, 41/80, d1=0.32613, d2=0.32377 g=0.33812\n",
      ">7, 43/80, d1=0.32161, d2=0.32967 g=0.34235\n",
      ">7, 45/80, d1=0.34705, d2=0.29907 g=0.33636\n",
      ">7, 47/80, d1=0.32678, d2=0.33202 g=0.33570\n",
      ">7, 49/80, d1=0.34938, d2=0.32989 g=0.32734\n"
     ]
    },
    {
     "name": "stderr",
     "output_type": "stream",
     "text": [
      "/home/deepankar/p3tf2/lib/python3.6/site-packages/scipy/stats/stats.py:3845: PearsonRConstantInputWarning: An input array is constant; the correlation coefficent is not defined.\n",
      "  warnings.warn(PearsonRConstantInputWarning())\n",
      "/home/deepankar/p3tf2/lib/python3.6/site-packages/scipy/stats/stats.py:3845: PearsonRConstantInputWarning: An input array is constant; the correlation coefficent is not defined.\n",
      "  warnings.warn(PearsonRConstantInputWarning())\n",
      "/home/deepankar/p3tf2/lib/python3.6/site-packages/scipy/stats/stats.py:3845: PearsonRConstantInputWarning: An input array is constant; the correlation coefficent is not defined.\n",
      "  warnings.warn(PearsonRConstantInputWarning())\n"
     ]
    },
    {
     "name": "stdout",
     "output_type": "stream",
     "text": [
      ">7, 51/80, d1=0.34048, d2=0.34345 g=0.33830\n",
      ">7, 53/80, d1=0.33105, d2=0.31373 g=0.34131\n",
      ">7, 55/80, d1=0.33180, d2=0.32561 g=0.33231\n",
      ">7, 57/80, d1=0.32319, d2=0.34329 g=0.32187\n",
      ">7, 59/80, d1=0.32553, d2=0.31625 g=0.31970\n"
     ]
    },
    {
     "name": "stderr",
     "output_type": "stream",
     "text": [
      "/home/deepankar/p3tf2/lib/python3.6/site-packages/scipy/stats/stats.py:3845: PearsonRConstantInputWarning: An input array is constant; the correlation coefficent is not defined.\n",
      "  warnings.warn(PearsonRConstantInputWarning())\n",
      "/home/deepankar/p3tf2/lib/python3.6/site-packages/scipy/stats/stats.py:3845: PearsonRConstantInputWarning: An input array is constant; the correlation coefficent is not defined.\n",
      "  warnings.warn(PearsonRConstantInputWarning())\n",
      "/home/deepankar/p3tf2/lib/python3.6/site-packages/scipy/stats/stats.py:3845: PearsonRConstantInputWarning: An input array is constant; the correlation coefficent is not defined.\n",
      "  warnings.warn(PearsonRConstantInputWarning())\n"
     ]
    },
    {
     "name": "stdout",
     "output_type": "stream",
     "text": [
      ">7, 61/80, d1=0.33411, d2=0.30748 g=0.33785\n",
      ">7, 63/80, d1=0.33288, d2=0.33205 g=0.32826\n",
      ">7, 65/80, d1=0.31610, d2=0.31388 g=0.31875\n",
      ">7, 67/80, d1=0.34687, d2=0.32918 g=0.32450\n",
      ">7, 69/80, d1=0.31474, d2=0.32562 g=0.32267\n"
     ]
    },
    {
     "name": "stderr",
     "output_type": "stream",
     "text": [
      "/home/deepankar/p3tf2/lib/python3.6/site-packages/scipy/stats/stats.py:3845: PearsonRConstantInputWarning: An input array is constant; the correlation coefficent is not defined.\n",
      "  warnings.warn(PearsonRConstantInputWarning())\n",
      "/home/deepankar/p3tf2/lib/python3.6/site-packages/scipy/stats/stats.py:3845: PearsonRConstantInputWarning: An input array is constant; the correlation coefficent is not defined.\n",
      "  warnings.warn(PearsonRConstantInputWarning())\n",
      "/home/deepankar/p3tf2/lib/python3.6/site-packages/scipy/stats/stats.py:3845: PearsonRConstantInputWarning: An input array is constant; the correlation coefficent is not defined.\n",
      "  warnings.warn(PearsonRConstantInputWarning())\n"
     ]
    },
    {
     "name": "stdout",
     "output_type": "stream",
     "text": [
      ">7, 71/80, d1=0.31680, d2=0.32451 g=0.34562\n",
      ">7, 73/80, d1=0.33388, d2=0.32924 g=0.33468\n",
      ">7, 75/80, d1=0.33454, d2=0.31323 g=0.32458\n",
      ">7, 77/80, d1=0.33779, d2=0.31796 g=0.31520\n",
      ">7, 79/80, d1=0.32534, d2=0.32421 g=0.33037\n"
     ]
    },
    {
     "name": "stderr",
     "output_type": "stream",
     "text": [
      "/home/deepankar/p3tf2/lib/python3.6/site-packages/scipy/stats/stats.py:3845: PearsonRConstantInputWarning: An input array is constant; the correlation coefficent is not defined.\n",
      "  warnings.warn(PearsonRConstantInputWarning())\n",
      "/home/deepankar/p3tf2/lib/python3.6/site-packages/scipy/stats/stats.py:3845: PearsonRConstantInputWarning: An input array is constant; the correlation coefficent is not defined.\n",
      "  warnings.warn(PearsonRConstantInputWarning())\n"
     ]
    },
    {
     "name": "stdout",
     "output_type": "stream",
     "text": [
      ">8, 1/80, d1=0.34614, d2=0.34006 g=0.33503\n",
      ">8, 3/80, d1=0.34056, d2=0.31909 g=0.33377\n",
      ">8, 5/80, d1=0.31584, d2=0.32998 g=0.33256\n",
      ">8, 7/80, d1=0.32448, d2=0.33360 g=0.33565\n",
      ">8, 9/80, d1=0.32662, d2=0.34365 g=0.33560\n"
     ]
    },
    {
     "name": "stderr",
     "output_type": "stream",
     "text": [
      "/home/deepankar/p3tf2/lib/python3.6/site-packages/scipy/stats/stats.py:3845: PearsonRConstantInputWarning: An input array is constant; the correlation coefficent is not defined.\n",
      "  warnings.warn(PearsonRConstantInputWarning())\n",
      "/home/deepankar/p3tf2/lib/python3.6/site-packages/scipy/stats/stats.py:3845: PearsonRConstantInputWarning: An input array is constant; the correlation coefficent is not defined.\n",
      "  warnings.warn(PearsonRConstantInputWarning())\n",
      "/home/deepankar/p3tf2/lib/python3.6/site-packages/scipy/stats/stats.py:3845: PearsonRConstantInputWarning: An input array is constant; the correlation coefficent is not defined.\n",
      "  warnings.warn(PearsonRConstantInputWarning())\n"
     ]
    },
    {
     "name": "stdout",
     "output_type": "stream",
     "text": [
      ">8, 11/80, d1=0.32820, d2=0.31644 g=0.33502\n",
      ">8, 13/80, d1=0.33604, d2=0.32320 g=0.34291\n",
      ">8, 15/80, d1=0.31821, d2=0.32582 g=0.31295\n",
      ">8, 17/80, d1=0.34201, d2=0.32022 g=0.33534\n",
      ">8, 19/80, d1=0.33761, d2=0.34006 g=0.31959\n"
     ]
    },
    {
     "name": "stderr",
     "output_type": "stream",
     "text": [
      "/home/deepankar/p3tf2/lib/python3.6/site-packages/scipy/stats/stats.py:3845: PearsonRConstantInputWarning: An input array is constant; the correlation coefficent is not defined.\n",
      "  warnings.warn(PearsonRConstantInputWarning())\n",
      "/home/deepankar/p3tf2/lib/python3.6/site-packages/scipy/stats/stats.py:3845: PearsonRConstantInputWarning: An input array is constant; the correlation coefficent is not defined.\n",
      "  warnings.warn(PearsonRConstantInputWarning())\n",
      "/home/deepankar/p3tf2/lib/python3.6/site-packages/scipy/stats/stats.py:3845: PearsonRConstantInputWarning: An input array is constant; the correlation coefficent is not defined.\n",
      "  warnings.warn(PearsonRConstantInputWarning())\n"
     ]
    },
    {
     "name": "stdout",
     "output_type": "stream",
     "text": [
      ">8, 21/80, d1=0.30391, d2=0.32383 g=0.35120\n",
      ">8, 23/80, d1=0.33400, d2=0.32213 g=0.33471\n",
      ">8, 25/80, d1=0.30655, d2=0.32737 g=0.34292\n",
      ">8, 27/80, d1=0.32471, d2=0.33078 g=0.32095\n",
      ">8, 29/80, d1=0.33316, d2=0.35571 g=0.33704\n"
     ]
    },
    {
     "name": "stderr",
     "output_type": "stream",
     "text": [
      "/home/deepankar/p3tf2/lib/python3.6/site-packages/scipy/stats/stats.py:3845: PearsonRConstantInputWarning: An input array is constant; the correlation coefficent is not defined.\n",
      "  warnings.warn(PearsonRConstantInputWarning())\n",
      "/home/deepankar/p3tf2/lib/python3.6/site-packages/scipy/stats/stats.py:3845: PearsonRConstantInputWarning: An input array is constant; the correlation coefficent is not defined.\n",
      "  warnings.warn(PearsonRConstantInputWarning())\n",
      "/home/deepankar/p3tf2/lib/python3.6/site-packages/scipy/stats/stats.py:3845: PearsonRConstantInputWarning: An input array is constant; the correlation coefficent is not defined.\n",
      "  warnings.warn(PearsonRConstantInputWarning())\n"
     ]
    },
    {
     "name": "stdout",
     "output_type": "stream",
     "text": [
      ">8, 31/80, d1=0.34702, d2=0.32568 g=0.32275\n",
      ">8, 33/80, d1=0.33983, d2=0.33718 g=0.33006\n",
      ">8, 35/80, d1=0.31421, d2=0.30507 g=0.32031\n",
      ">8, 37/80, d1=0.32700, d2=0.32956 g=0.33186\n",
      ">8, 39/80, d1=0.33147, d2=0.34061 g=0.33415\n"
     ]
    },
    {
     "name": "stderr",
     "output_type": "stream",
     "text": [
      "/home/deepankar/p3tf2/lib/python3.6/site-packages/scipy/stats/stats.py:3845: PearsonRConstantInputWarning: An input array is constant; the correlation coefficent is not defined.\n",
      "  warnings.warn(PearsonRConstantInputWarning())\n",
      "/home/deepankar/p3tf2/lib/python3.6/site-packages/scipy/stats/stats.py:3845: PearsonRConstantInputWarning: An input array is constant; the correlation coefficent is not defined.\n",
      "  warnings.warn(PearsonRConstantInputWarning())\n",
      "/home/deepankar/p3tf2/lib/python3.6/site-packages/scipy/stats/stats.py:3845: PearsonRConstantInputWarning: An input array is constant; the correlation coefficent is not defined.\n",
      "  warnings.warn(PearsonRConstantInputWarning())\n"
     ]
    },
    {
     "name": "stdout",
     "output_type": "stream",
     "text": [
      ">8, 41/80, d1=0.32009, d2=0.30721 g=0.34372\n",
      ">8, 43/80, d1=0.31707, d2=0.30775 g=0.32450\n",
      ">8, 45/80, d1=0.34319, d2=0.31417 g=0.32762\n",
      ">8, 47/80, d1=0.34620, d2=0.32008 g=0.30819\n",
      ">8, 49/80, d1=0.32132, d2=0.32585 g=0.33907\n"
     ]
    },
    {
     "name": "stderr",
     "output_type": "stream",
     "text": [
      "/home/deepankar/p3tf2/lib/python3.6/site-packages/scipy/stats/stats.py:3845: PearsonRConstantInputWarning: An input array is constant; the correlation coefficent is not defined.\n",
      "  warnings.warn(PearsonRConstantInputWarning())\n",
      "/home/deepankar/p3tf2/lib/python3.6/site-packages/scipy/stats/stats.py:3845: PearsonRConstantInputWarning: An input array is constant; the correlation coefficent is not defined.\n",
      "  warnings.warn(PearsonRConstantInputWarning())\n",
      "/home/deepankar/p3tf2/lib/python3.6/site-packages/scipy/stats/stats.py:3845: PearsonRConstantInputWarning: An input array is constant; the correlation coefficent is not defined.\n",
      "  warnings.warn(PearsonRConstantInputWarning())\n"
     ]
    },
    {
     "name": "stdout",
     "output_type": "stream",
     "text": [
      ">8, 51/80, d1=0.32594, d2=0.33393 g=0.33222\n",
      ">8, 53/80, d1=0.33221, d2=0.34210 g=0.32784\n",
      ">8, 55/80, d1=0.33130, d2=0.34347 g=0.34086\n",
      ">8, 57/80, d1=0.31513, d2=0.32061 g=0.33949\n",
      ">8, 59/80, d1=0.32541, d2=0.31581 g=0.32638\n"
     ]
    },
    {
     "name": "stderr",
     "output_type": "stream",
     "text": [
      "/home/deepankar/p3tf2/lib/python3.6/site-packages/scipy/stats/stats.py:3845: PearsonRConstantInputWarning: An input array is constant; the correlation coefficent is not defined.\n",
      "  warnings.warn(PearsonRConstantInputWarning())\n",
      "/home/deepankar/p3tf2/lib/python3.6/site-packages/scipy/stats/stats.py:3845: PearsonRConstantInputWarning: An input array is constant; the correlation coefficent is not defined.\n",
      "  warnings.warn(PearsonRConstantInputWarning())\n"
     ]
    },
    {
     "name": "stdout",
     "output_type": "stream",
     "text": [
      ">8, 61/80, d1=0.33281, d2=0.32104 g=0.33578\n",
      ">8, 63/80, d1=0.32493, d2=0.33264 g=0.32190\n",
      ">8, 65/80, d1=0.31905, d2=0.31489 g=0.34145\n",
      ">8, 67/80, d1=0.33662, d2=0.31193 g=0.33064\n",
      ">8, 69/80, d1=0.34116, d2=0.33929 g=0.32388\n"
     ]
    },
    {
     "name": "stderr",
     "output_type": "stream",
     "text": [
      "/home/deepankar/p3tf2/lib/python3.6/site-packages/scipy/stats/stats.py:3845: PearsonRConstantInputWarning: An input array is constant; the correlation coefficent is not defined.\n",
      "  warnings.warn(PearsonRConstantInputWarning())\n",
      "/home/deepankar/p3tf2/lib/python3.6/site-packages/scipy/stats/stats.py:3845: PearsonRConstantInputWarning: An input array is constant; the correlation coefficent is not defined.\n",
      "  warnings.warn(PearsonRConstantInputWarning())\n"
     ]
    },
    {
     "name": "stdout",
     "output_type": "stream",
     "text": [
      ">8, 71/80, d1=0.33837, d2=0.32640 g=0.32104\n",
      ">8, 73/80, d1=0.32362, d2=0.34367 g=0.32331\n",
      ">8, 75/80, d1=0.32490, d2=0.33008 g=0.34246\n",
      ">8, 77/80, d1=0.31267, d2=0.33200 g=0.31715\n",
      ">8, 79/80, d1=0.31953, d2=0.33405 g=0.33472\n"
     ]
    },
    {
     "name": "stderr",
     "output_type": "stream",
     "text": [
      "/home/deepankar/p3tf2/lib/python3.6/site-packages/scipy/stats/stats.py:3845: PearsonRConstantInputWarning: An input array is constant; the correlation coefficent is not defined.\n",
      "  warnings.warn(PearsonRConstantInputWarning())\n",
      "/home/deepankar/p3tf2/lib/python3.6/site-packages/scipy/stats/stats.py:3845: PearsonRConstantInputWarning: An input array is constant; the correlation coefficent is not defined.\n",
      "  warnings.warn(PearsonRConstantInputWarning())\n",
      "/home/deepankar/p3tf2/lib/python3.6/site-packages/scipy/stats/stats.py:3845: PearsonRConstantInputWarning: An input array is constant; the correlation coefficent is not defined.\n",
      "  warnings.warn(PearsonRConstantInputWarning())\n"
     ]
    },
    {
     "name": "stdout",
     "output_type": "stream",
     "text": [
      ">9, 1/80, d1=0.33139, d2=0.32116 g=0.32852\n",
      ">9, 3/80, d1=0.33848, d2=0.33084 g=0.31832\n",
      ">9, 5/80, d1=0.33166, d2=0.33594 g=0.32690\n",
      ">9, 7/80, d1=0.30901, d2=0.32895 g=0.32256\n",
      ">9, 9/80, d1=0.32696, d2=0.33435 g=0.33752\n"
     ]
    },
    {
     "name": "stderr",
     "output_type": "stream",
     "text": [
      "/home/deepankar/p3tf2/lib/python3.6/site-packages/scipy/stats/stats.py:3845: PearsonRConstantInputWarning: An input array is constant; the correlation coefficent is not defined.\n",
      "  warnings.warn(PearsonRConstantInputWarning())\n",
      "/home/deepankar/p3tf2/lib/python3.6/site-packages/scipy/stats/stats.py:3845: PearsonRConstantInputWarning: An input array is constant; the correlation coefficent is not defined.\n",
      "  warnings.warn(PearsonRConstantInputWarning())\n",
      "/home/deepankar/p3tf2/lib/python3.6/site-packages/scipy/stats/stats.py:3845: PearsonRConstantInputWarning: An input array is constant; the correlation coefficent is not defined.\n",
      "  warnings.warn(PearsonRConstantInputWarning())\n"
     ]
    },
    {
     "name": "stdout",
     "output_type": "stream",
     "text": [
      ">9, 11/80, d1=0.33815, d2=0.32481 g=0.31614\n",
      ">9, 13/80, d1=0.32643, d2=0.31955 g=0.33005\n",
      ">9, 15/80, d1=0.32237, d2=0.32915 g=0.32028\n",
      ">9, 17/80, d1=0.34268, d2=0.31771 g=0.33005\n",
      ">9, 19/80, d1=0.34162, d2=0.33385 g=0.33831\n"
     ]
    },
    {
     "name": "stderr",
     "output_type": "stream",
     "text": [
      "/home/deepankar/p3tf2/lib/python3.6/site-packages/scipy/stats/stats.py:3845: PearsonRConstantInputWarning: An input array is constant; the correlation coefficent is not defined.\n",
      "  warnings.warn(PearsonRConstantInputWarning())\n",
      "/home/deepankar/p3tf2/lib/python3.6/site-packages/scipy/stats/stats.py:3845: PearsonRConstantInputWarning: An input array is constant; the correlation coefficent is not defined.\n",
      "  warnings.warn(PearsonRConstantInputWarning())\n",
      "/home/deepankar/p3tf2/lib/python3.6/site-packages/scipy/stats/stats.py:3845: PearsonRConstantInputWarning: An input array is constant; the correlation coefficent is not defined.\n",
      "  warnings.warn(PearsonRConstantInputWarning())\n"
     ]
    },
    {
     "name": "stdout",
     "output_type": "stream",
     "text": [
      ">9, 21/80, d1=0.32137, d2=0.33035 g=0.33224\n",
      ">9, 23/80, d1=0.31025, d2=0.32391 g=0.33507\n",
      ">9, 25/80, d1=0.33459, d2=0.34906 g=0.33566\n",
      ">9, 27/80, d1=0.34031, d2=0.31641 g=0.32184\n",
      ">9, 29/80, d1=0.31411, d2=0.32133 g=0.32167\n"
     ]
    },
    {
     "name": "stderr",
     "output_type": "stream",
     "text": [
      "/home/deepankar/p3tf2/lib/python3.6/site-packages/scipy/stats/stats.py:3845: PearsonRConstantInputWarning: An input array is constant; the correlation coefficent is not defined.\n",
      "  warnings.warn(PearsonRConstantInputWarning())\n",
      "/home/deepankar/p3tf2/lib/python3.6/site-packages/scipy/stats/stats.py:3845: PearsonRConstantInputWarning: An input array is constant; the correlation coefficent is not defined.\n",
      "  warnings.warn(PearsonRConstantInputWarning())\n",
      "/home/deepankar/p3tf2/lib/python3.6/site-packages/scipy/stats/stats.py:3845: PearsonRConstantInputWarning: An input array is constant; the correlation coefficent is not defined.\n",
      "  warnings.warn(PearsonRConstantInputWarning())\n"
     ]
    },
    {
     "name": "stdout",
     "output_type": "stream",
     "text": [
      ">9, 31/80, d1=0.35505, d2=0.31418 g=0.34103\n",
      ">9, 33/80, d1=0.33965, d2=0.32805 g=0.33306\n",
      ">9, 35/80, d1=0.34511, d2=0.32016 g=0.33091\n",
      ">9, 37/80, d1=0.32070, d2=0.33309 g=0.33086\n",
      ">9, 39/80, d1=0.35181, d2=0.33916 g=0.32536\n"
     ]
    },
    {
     "name": "stderr",
     "output_type": "stream",
     "text": [
      "/home/deepankar/p3tf2/lib/python3.6/site-packages/scipy/stats/stats.py:3845: PearsonRConstantInputWarning: An input array is constant; the correlation coefficent is not defined.\n",
      "  warnings.warn(PearsonRConstantInputWarning())\n",
      "/home/deepankar/p3tf2/lib/python3.6/site-packages/scipy/stats/stats.py:3845: PearsonRConstantInputWarning: An input array is constant; the correlation coefficent is not defined.\n",
      "  warnings.warn(PearsonRConstantInputWarning())\n",
      "/home/deepankar/p3tf2/lib/python3.6/site-packages/scipy/stats/stats.py:3845: PearsonRConstantInputWarning: An input array is constant; the correlation coefficent is not defined.\n",
      "  warnings.warn(PearsonRConstantInputWarning())\n"
     ]
    },
    {
     "name": "stdout",
     "output_type": "stream",
     "text": [
      ">9, 41/80, d1=0.32327, d2=0.32201 g=0.31398\n",
      ">9, 43/80, d1=0.32759, d2=0.32787 g=0.33313\n",
      ">9, 45/80, d1=0.34794, d2=0.31752 g=0.34078\n",
      ">9, 47/80, d1=0.30840, d2=0.32457 g=0.32568\n",
      ">9, 49/80, d1=0.32496, d2=0.32850 g=0.32585\n"
     ]
    },
    {
     "name": "stderr",
     "output_type": "stream",
     "text": [
      "/home/deepankar/p3tf2/lib/python3.6/site-packages/scipy/stats/stats.py:3845: PearsonRConstantInputWarning: An input array is constant; the correlation coefficent is not defined.\n",
      "  warnings.warn(PearsonRConstantInputWarning())\n",
      "/home/deepankar/p3tf2/lib/python3.6/site-packages/scipy/stats/stats.py:3845: PearsonRConstantInputWarning: An input array is constant; the correlation coefficent is not defined.\n",
      "  warnings.warn(PearsonRConstantInputWarning())\n",
      "/home/deepankar/p3tf2/lib/python3.6/site-packages/scipy/stats/stats.py:3845: PearsonRConstantInputWarning: An input array is constant; the correlation coefficent is not defined.\n",
      "  warnings.warn(PearsonRConstantInputWarning())\n"
     ]
    },
    {
     "name": "stdout",
     "output_type": "stream",
     "text": [
      ">9, 51/80, d1=0.31911, d2=0.32493 g=0.34197\n",
      ">9, 53/80, d1=0.33519, d2=0.32976 g=0.33104\n",
      ">9, 55/80, d1=0.33889, d2=0.30915 g=0.33095\n",
      ">9, 57/80, d1=0.33307, d2=0.34703 g=0.32113\n",
      ">9, 59/80, d1=0.36012, d2=0.31612 g=0.34223\n"
     ]
    },
    {
     "name": "stderr",
     "output_type": "stream",
     "text": [
      "/home/deepankar/p3tf2/lib/python3.6/site-packages/scipy/stats/stats.py:3845: PearsonRConstantInputWarning: An input array is constant; the correlation coefficent is not defined.\n",
      "  warnings.warn(PearsonRConstantInputWarning())\n",
      "/home/deepankar/p3tf2/lib/python3.6/site-packages/scipy/stats/stats.py:3845: PearsonRConstantInputWarning: An input array is constant; the correlation coefficent is not defined.\n",
      "  warnings.warn(PearsonRConstantInputWarning())\n",
      "/home/deepankar/p3tf2/lib/python3.6/site-packages/scipy/stats/stats.py:3845: PearsonRConstantInputWarning: An input array is constant; the correlation coefficent is not defined.\n",
      "  warnings.warn(PearsonRConstantInputWarning())\n"
     ]
    },
    {
     "name": "stdout",
     "output_type": "stream",
     "text": [
      ">9, 61/80, d1=0.32425, d2=0.33160 g=0.33706\n",
      ">9, 63/80, d1=0.32593, d2=0.31664 g=0.32098\n",
      ">9, 65/80, d1=0.31169, d2=0.33371 g=0.31962\n",
      ">9, 67/80, d1=0.33489, d2=0.34141 g=0.32122\n",
      ">9, 69/80, d1=0.34123, d2=0.33625 g=0.33811\n"
     ]
    },
    {
     "name": "stderr",
     "output_type": "stream",
     "text": [
      "/home/deepankar/p3tf2/lib/python3.6/site-packages/scipy/stats/stats.py:3845: PearsonRConstantInputWarning: An input array is constant; the correlation coefficent is not defined.\n",
      "  warnings.warn(PearsonRConstantInputWarning())\n",
      "/home/deepankar/p3tf2/lib/python3.6/site-packages/scipy/stats/stats.py:3845: PearsonRConstantInputWarning: An input array is constant; the correlation coefficent is not defined.\n",
      "  warnings.warn(PearsonRConstantInputWarning())\n",
      "/home/deepankar/p3tf2/lib/python3.6/site-packages/scipy/stats/stats.py:3845: PearsonRConstantInputWarning: An input array is constant; the correlation coefficent is not defined.\n",
      "  warnings.warn(PearsonRConstantInputWarning())\n"
     ]
    },
    {
     "name": "stdout",
     "output_type": "stream",
     "text": [
      ">9, 71/80, d1=0.32177, d2=0.32456 g=0.33598\n",
      ">9, 73/80, d1=0.31364, d2=0.33441 g=0.32516\n",
      ">9, 75/80, d1=0.32408, d2=0.33931 g=0.34344\n",
      ">9, 77/80, d1=0.31819, d2=0.31489 g=0.32849\n",
      ">9, 79/80, d1=0.32315, d2=0.32217 g=0.32198\n"
     ]
    },
    {
     "name": "stderr",
     "output_type": "stream",
     "text": [
      "/home/deepankar/p3tf2/lib/python3.6/site-packages/scipy/stats/stats.py:3845: PearsonRConstantInputWarning: An input array is constant; the correlation coefficent is not defined.\n",
      "  warnings.warn(PearsonRConstantInputWarning())\n",
      "/home/deepankar/p3tf2/lib/python3.6/site-packages/scipy/stats/stats.py:3845: PearsonRConstantInputWarning: An input array is constant; the correlation coefficent is not defined.\n",
      "  warnings.warn(PearsonRConstantInputWarning())\n",
      "/home/deepankar/p3tf2/lib/python3.6/site-packages/scipy/stats/stats.py:3845: PearsonRConstantInputWarning: An input array is constant; the correlation coefficent is not defined.\n",
      "  warnings.warn(PearsonRConstantInputWarning())\n"
     ]
    }
   ],
   "source": [
    "# size of the latent space\n",
    "latent_dim = 186\n",
    "# size of the data\n",
    "data = 186\n",
    "# classes\n",
    "classes = 3\n",
    "\n",
    "n_epochs=10\n",
    "\n",
    "# multiples of three (three classes) (less thyan 24000)\n",
    "n_batch=300\n",
    "\n",
    "# Loss Values\n",
    "D_L_1 = np.infty\n",
    "D_L_2 = np.infty\n",
    "G_L = np.infty\n",
    "\n",
    "# create the discriminator\n",
    "d_model = discriminator(data_dim=data)\n",
    "# d_model = discriminator(data_dim=data, input_classes=classes)\n",
    "\n",
    "# create the generator\n",
    "g_model = generator(noise_dim=data, beat_dim=data, out_dim=data)\n",
    "# g_model = generator(noise_dim=latent_dim, input_classes=classes, out_dim=data)\n",
    "\n",
    "# create the gan\n",
    "gan_model = create_gan(d_model, g_model)\n",
    "\n",
    "folder_name = 'Without_BN_Tanh/'\n",
    "if not os.path.isdir(folder_name):\n",
    "    os.mkdir(folder_name)\n",
    "\n",
    "plot_model(d_model, to_file=folder_name+'disc.pdf', show_shapes=True)\n",
    "plot_model(g_model, to_file=folder_name+'gen.pdf', show_shapes=True)\n",
    "plot_model(gan_model, to_file=folder_name+'gan.pdf', show_shapes=True)\n",
    "\n",
    "\n",
    "# load image data\n",
    "X_N, y_N, X_S, y_S, X_V, y_V = load_real_samples()\n",
    "# # train model\n",
    "# train(g_model, d_model, gan_model, dataset, latent_dim)\n",
    "\n",
    "bat_per_epo = int(y_S.shape[0] / n_batch)\n",
    "half_batch = int(n_batch / 2)\n",
    "\n",
    "plt.ioff()\n",
    "\n",
    "\n",
    "    \n",
    "filename = folder_name + 'Plots'\n",
    "if not os.path.isdir(filename):\n",
    "    os.mkdir(filename)\n",
    "\n",
    "model_name = folder_name + 'Model/'\n",
    "if not os.path.isdir(model_name):\n",
    "    os.mkdir(model_name)\n",
    "\n",
    "f = open(folder_name + 'Loss.csv', 'w')\n",
    "f.write('d_loss1, d_loss2, g_loss \\n')\n",
    "f.close()\n",
    "\n",
    "f = open(folder_name + 'Stats.csv', 'w')\n",
    "for i in range(3):\n",
    "    for mtc in metric_to_calculate:\n",
    "        f.write(str(mtc)+'_'+str(i)+',')\n",
    "f.write('\\n')\n",
    "f.close()\n",
    "\n",
    "# manually enumerate epochs\n",
    "for i in range(n_epochs):\n",
    "    # enumerate batches over the training set\n",
    "    for j in range(bat_per_epo):\n",
    "        \n",
    "        # get randomly selected 'real' samples\n",
    "        [X_real, labels_real], y_real = generate_real_samples(X_N, y_N, X_S, y_S, X_V, y_V, half_batch)\n",
    "        # print (X_real.shape, labels_real.shape, y_real.shape)\n",
    "        # update discriminator model weights\n",
    "        d_loss1, _ = d_model.train_on_batch([X_real, X_real], y_real)\n",
    "        \n",
    "        # generate 'fake' examples\n",
    "        [X_fake, labels], y_fake = generate_fake_samples(g_model, latent_dim, half_batch)\n",
    "        # print (X_fake.shape, labels.shape, y_fake.shape)\n",
    "        # update discriminator model weights\n",
    "        d_loss2, _ = d_model.train_on_batch([X_fake, X_fake], y_fake)\n",
    "        \n",
    "        # prepare points in latent space as input for the generator\n",
    "        [z_input, _] = generate_latent_points(latent_dim, n_batch)\n",
    "        [X, _], _ = generate_real_samples(X_N, y_N, X_S, y_S, X_V, y_V, n_batch)\n",
    "        # print (z_input.shape)\n",
    "        # create inverted labels for the fake samples\n",
    "        y_gan = reshape(np.random.uniform(0.8, 1, n_batch))\n",
    "        # update the generator via the discriminator's error\n",
    "        g_loss = gan_model.train_on_batch([z_input, X], y_gan)\n",
    "        \n",
    "        if g_loss < G_L:\n",
    "            D_L_1 = d_loss1\n",
    "            D_L_2 = d_loss2\n",
    "            G_L = g_loss\n",
    "            g_model.save(model_name + str(i*1000 + j) + '_cgan_generator.h5')\n",
    "\n",
    "        f = open(folder_name + 'Loss.csv', 'a')\n",
    "        f.write(str(d_loss1)+','+str(d_loss2)+','+str(g_loss)+'\\n')\n",
    "        f.close()\n",
    "\n",
    "        if (j+1)%2 == 0:\n",
    "            print('>%d, %d/%d, d1=%.5f, d2=%.5f g=%.5f' %(i, j, bat_per_epo, d_loss1, d_loss2, g_loss))\n",
    "            name = filename+'/'+str(i*1000 + j)+'.jpg'\n",
    "            # generate ECGs\n",
    "            z_input  = g_model.predict([z_input, X])\n",
    "            X_R = get_real_samples(X_N, y_N, X_S, y_S, X_V, y_V)\n",
    "            save_new_plot(X_R, z_input, n_batch, name)\n",
    "            \n",
    "        if (j+1)%10 == 0:\n",
    "            evaluate(X, z_input, classes, metric_to_calculate, n_batch, folder_name, samples=4)"
   ]
  },
  {
   "cell_type": "code",
   "execution_count": null,
   "id": "shared-welsh",
   "metadata": {},
   "outputs": [],
   "source": []
  },
  {
   "cell_type": "code",
   "execution_count": 14,
   "id": "innovative-option",
   "metadata": {},
   "outputs": [],
   "source": [
    "# name = filename + '/'+str(i*1000 + j)+'.jpg'\n",
    "# # generate images\n",
    "# latent_points, labels = generate_latent_points(latent_dim, n*n)\n",
    "# # specify labels\n",
    "# [X, labels], y = generate_real_samples(X_N, y_N, X_S, y_S, X_V, y_V, n*n)\n",
    "# # generate images\n",
    "# X  = g_model.predict([latent_points, X])\n",
    "# X_R = get_real_samples(X_N, y_N, X_S, y_S, X_V, y_V)\n",
    "# X = np.vstack((X_R, X))\n",
    "# save_new_plot(X, n+1, name)"
   ]
  },
  {
   "cell_type": "code",
   "execution_count": 15,
   "id": "animated-repeat",
   "metadata": {},
   "outputs": [],
   "source": [
    "# f = open(filename+'_Stats.csv', 'a')\n",
    "# for k,metric in enumerate(label_dict.keys()):    \n",
    "#     temp_x = test_data[200*(k):200*(k+1),:-1]\n",
    "#     [z_input, labels_input] = generate_class_specific_latent_input(200, n_classes=n_classes, noise_dim=noise_dim, category=float(metric))\n",
    "#     z_input = G.predict([z_input, labels_input], verbose=verbose)\n",
    "\n",
    "#     for j in range(2):\n",
    "#         plt.plot(z_input[j])\n",
    "#     plt.savefig(data_dir+str(i)+'_Label_'+str(metric)+'.png')\n",
    "#     plt.close()\n",
    "#     plt.clf()\n",
    "\n",
    "#     results = evaluate(temp_x,z_input,metric_to_calculate)\n",
    "#     for r in results:\n",
    "#         f.write(str(r)+',')\n",
    "\n",
    "# f.write('\\n')\n",
    "# f.close()"
   ]
  },
  {
   "cell_type": "code",
   "execution_count": 16,
   "id": "sapphire-radar",
   "metadata": {},
   "outputs": [],
   "source": [
    "# def save_model(model, data_dir, type='G', epoch=1):\n",
    "#     json_name = data_dir+str(epoch)+'_'+type+'.json'\n",
    "#     h5name = data_dir+str(epoch)+'_'+type+'.h5'\n",
    "#     # serialize model to JSON\n",
    "#     model_json = model.to_json()\n",
    "#     with open(json_name, \"w\") as json_file:\n",
    "#         json_file.write(model_json)\n",
    "#     # serialize weights to HDF5\n",
    "#     model.save_weights(h5name)\n",
    "#     # print(\"Saved model to disk\")\n",
    "#     del model\n"
   ]
  },
  {
   "cell_type": "code",
   "execution_count": null,
   "id": "written-hearing",
   "metadata": {},
   "outputs": [],
   "source": []
  },
  {
   "cell_type": "code",
   "execution_count": 17,
   "id": "painful-litigation",
   "metadata": {},
   "outputs": [],
   "source": [
    "# save_model(model=G, data_dir=data_dir, type='G', epoch=i)\n",
    "# #     # save the generator model\n",
    "#     g_model.save('cgan_generator.h5')\n",
    "\n",
    "# callback = [EarlyStopping(monitor='val_AUC', mode='max', verbose=1, patience=Pat),\n",
    "#          ModelCheckpoint(filepath=str(twelve_lead_model_filename)+'_check_model.h5', \n",
    "#                          monitor='val_AUC', verbose=1, save_best_only=True, mode='max'),\n",
    "#          ReduceLROnPlateau(monitor='val_AUC', factor=0.5, patience=Pat//2, verbose=1, \n",
    "#                            mode='max', min_delta=0.0001, cooldown=0, min_lr=0)]\n",
    "\n",
    "# # model = parallel_NN(WINDOW_SIZE,INPUT_FEAT,OUTPUT_CLASS):\n",
    "# model = parallel_NN(Window, len(leads), snomed_classes.shape[0])\n",
    "\n",
    "# model.compile(loss=tf.keras.losses.BinaryCrossentropy(), \n",
    "#               optimizer=tf.keras.optimizers.Adam(learning_rate=0.001), \n",
    "#               metrics=[tf.keras.metrics.BinaryAccuracy(name='accuracy', dtype=None, threshold=0.5),\n",
    "#                        tf.keras.metrics.Recall(name='Recall'),\n",
    "#                        tf.keras.metrics.Precision(name='Precision'),\n",
    "#                        tf.keras.metrics.AUC(num_thresholds=200,summation_method=\"interpolation\",\n",
    "#                                             name=\"AUC\",dtype=None,curve=\"ROC\",thresholds=None,\n",
    "#                                             multi_label=True,label_weights=None)])\n",
    "# history = model.fit(train_generator, steps_per_epoch=train_samples, epochs=EP, verbose=1,\n",
    "#                 validation_data=val_generator, validation_steps=val_samples, callbacks=callback)\n",
    "\n",
    "\n",
    "# history_name = output_directory + '/' + twelve_lead_filename\n",
    "# print (twelve_lead_model_filename, history_name)\n",
    "\n",
    "# save_model(twelve_lead_model_filename, model)\n",
    "# write_history(history_name, history.history)"
   ]
  }
 ],
 "metadata": {
  "kernelspec": {
   "display_name": "Python 3",
   "language": "python",
   "name": "python3"
  },
  "language_info": {
   "codemirror_mode": {
    "name": "ipython",
    "version": 3
   },
   "file_extension": ".py",
   "mimetype": "text/x-python",
   "name": "python",
   "nbconvert_exporter": "python",
   "pygments_lexer": "ipython3",
   "version": "3.6.9"
  }
 },
 "nbformat": 4,
 "nbformat_minor": 5
}
